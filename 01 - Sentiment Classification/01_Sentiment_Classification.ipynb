{
  "nbformat": 4,
  "nbformat_minor": 0,
  "metadata": {
    "colab": {
      "name": "01 - Sentiment Classification",
      "provenance": [],
      "collapsed_sections": []
    },
    "kernelspec": {
      "name": "python3",
      "display_name": "Python 3"
    },
    "accelerator": "GPU"
  },
  "cells": [
    {
      "cell_type": "markdown",
      "metadata": {
        "id": "h5iruQ5VorWr",
        "colab_type": "text"
      },
      "source": [
        "# Sentiment Classification\n",
        "Prepared by Jan Christian Blaise Cruz\n",
        "\n",
        "In this notebook we'll see how to use PyTorch to build LSTM-based sentiment classifiers."
      ]
    },
    {
      "cell_type": "markdown",
      "metadata": {
        "id": "YSNmxfve9kh3",
        "colab_type": "text"
      },
      "source": [
        "# Preliminaries"
      ]
    },
    {
      "cell_type": "markdown",
      "metadata": {
        "id": "NcZbHZG9sERT",
        "colab_type": "text"
      },
      "source": [
        "First, we'll download the necessary files and datasets."
      ]
    },
    {
      "cell_type": "code",
      "metadata": {
        "id": "iAOf9ocUFrhm",
        "colab_type": "code",
        "colab": {}
      },
      "source": [
        "!wget http://nlp.stanford.edu/data/glove.6B.zip\n",
        "!unzip glove.6B.zip"
      ],
      "execution_count": 0,
      "outputs": []
    },
    {
      "cell_type": "markdown",
      "metadata": {
        "id": "hlCaoqfJo5zz",
        "colab_type": "text"
      },
      "source": [
        "We'll import out libraries and set the necessary random seeds."
      ]
    },
    {
      "cell_type": "code",
      "metadata": {
        "id": "DG84CQ0ZFwDV",
        "colab_type": "code",
        "colab": {}
      },
      "source": [
        "import torch\n",
        "import torch.nn as nn\n",
        "import torch.optim as optim\n",
        "from torch.autograd import Variable\n",
        "import torch.utils.data as data_utils\n",
        "\n",
        "import pandas as pd\n",
        "from tqdm import tqdm\n",
        "\n",
        "device = torch.device('cuda:0' if torch.cuda.is_available() else 'cpu')\n",
        "torch.manual_seed(42);\n",
        "torch.cuda.manual_seed(42);\n",
        "torch.backends.cudnn.deterministic = True"
      ],
      "execution_count": 0,
      "outputs": []
    },
    {
      "cell_type": "markdown",
      "metadata": {
        "id": "NB3dO2aBp1sy",
        "colab_type": "text"
      },
      "source": [
        "Let's load the dataset, shuffle it, and separate it into training and validation splits."
      ]
    },
    {
      "cell_type": "code",
      "metadata": {
        "id": "d2LXHdUnFzr_",
        "colab_type": "code",
        "colab": {}
      },
      "source": [
        "df = pd.read_csv('train_40.csv').sample(frac=1, random_state=42)\n",
        "text, sentiment = list(df['text']), list(df['sentiment'])\n",
        "\n",
        "tr_sz = int(len(text) * 0.7)\n",
        "\n",
        "X_train, y_train = text[:tr_sz], sentiment[:tr_sz]\n",
        "X_val, y_val = text[tr_sz:], sentiment[tr_sz:]"
      ],
      "execution_count": 0,
      "outputs": []
    },
    {
      "cell_type": "markdown",
      "metadata": {
        "id": "WaYfnP45qNFM",
        "colab_type": "text"
      },
      "source": [
        "Let's see how much we have in each split."
      ]
    },
    {
      "cell_type": "code",
      "metadata": {
        "id": "ZoH62SbTHuW0",
        "colab_type": "code",
        "outputId": "2b4f59af-bf4f-4be9-b3d0-312d9d4a0b73",
        "colab": {
          "base_uri": "https://localhost:8080/",
          "height": 51
        }
      },
      "source": [
        "print(\"Training Set: {}\\nValidation Set: {}\".format(len(X_train), len(X_val)))"
      ],
      "execution_count": 0,
      "outputs": [
        {
          "output_type": "stream",
          "text": [
            "Training Set: 7000\n",
            "Validation Set: 3000\n"
          ],
          "name": "stdout"
        }
      ]
    },
    {
      "cell_type": "markdown",
      "metadata": {
        "id": "C3eKRXafqP3y",
        "colab_type": "text"
      },
      "source": [
        "# Text Preprocessing"
      ]
    },
    {
      "cell_type": "markdown",
      "metadata": {
        "id": "dP6J1talqSXS",
        "colab_type": "text"
      },
      "source": [
        "First order of business is to tokenize our dataset. Tokenization refers to splitting a sequence of text into a sequence of **tokens**. There are many different ways to turn words to tokens, but space-splitting is the most common form.\n",
        "\n",
        "Let's use the ```nltk``` package to tokenize our sentences."
      ]
    },
    {
      "cell_type": "code",
      "metadata": {
        "id": "qLOlb3DrEjfL",
        "colab_type": "code",
        "outputId": "4ad6ad55-781e-4563-c232-2a68b5b728d2",
        "colab": {
          "base_uri": "https://localhost:8080/",
          "height": 68
        }
      },
      "source": [
        "import nltk\n",
        "from nltk.tokenize import word_tokenize\n",
        "\n",
        "# Download the punkt tokenizer\n",
        "nltk.download('punkt')"
      ],
      "execution_count": 0,
      "outputs": [
        {
          "output_type": "stream",
          "text": [
            "[nltk_data] Downloading package punkt to /root/nltk_data...\n",
            "[nltk_data]   Unzipping tokenizers/punkt.zip.\n"
          ],
          "name": "stdout"
        },
        {
          "output_type": "execute_result",
          "data": {
            "text/plain": [
              "True"
            ]
          },
          "metadata": {
            "tags": []
          },
          "execution_count": 5
        }
      ]
    },
    {
      "cell_type": "markdown",
      "metadata": {
        "id": "s6Kux6x2qkqd",
        "colab_type": "text"
      },
      "source": [
        "We'll define a helper function to tokenize a certain sentence ```t```. The ```nltk``` package changes quotes to ``` `` ``` and ```''``` respectively because this is how the PennTreebank tokenizes quotations, so we'll have to change those back."
      ]
    },
    {
      "cell_type": "code",
      "metadata": {
        "id": "37XPHh6qFwSg",
        "colab_type": "code",
        "colab": {}
      },
      "source": [
        "def tokenize(t):\n",
        "  return [token.replace('``', '\"').replace(\"''\", '\"') for token in word_tokenize(t)]"
      ],
      "execution_count": 0,
      "outputs": []
    },
    {
      "cell_type": "markdown",
      "metadata": {
        "id": "8OiTUJkoq5Fd",
        "colab_type": "text"
      },
      "source": [
        "Let's tokenize our sentences."
      ]
    },
    {
      "cell_type": "code",
      "metadata": {
        "id": "hwpsSoXrF5-r",
        "colab_type": "code",
        "outputId": "5bc979ca-7805-4f51-ff62-6b980ae1e6f1",
        "colab": {
          "base_uri": "https://localhost:8080/",
          "height": 51
        }
      },
      "source": [
        "X_train = [tokenize(t) for t in tqdm(X_train)]\n",
        "X_val = [tokenize(t) for t in tqdm(X_val)]"
      ],
      "execution_count": 0,
      "outputs": [
        {
          "output_type": "stream",
          "text": [
            "100%|██████████| 7000/7000 [00:14<00:00, 477.29it/s]\n",
            "100%|██████████| 3000/3000 [00:06<00:00, 472.97it/s]\n"
          ],
          "name": "stderr"
        }
      ]
    },
    {
      "cell_type": "markdown",
      "metadata": {
        "id": "krfINtBsq7O8",
        "colab_type": "text"
      },
      "source": [
        "And check the first item in the training set."
      ]
    },
    {
      "cell_type": "code",
      "metadata": {
        "id": "yIN7s5NNGTvJ",
        "colab_type": "code",
        "outputId": "15145bd5-4dd2-47ad-e7b9-b8421d3d2e8d",
        "colab": {
          "base_uri": "https://localhost:8080/",
          "height": 34
        }
      },
      "source": [
        "X_train[0][:5]"
      ],
      "execution_count": 0,
      "outputs": [
        {
          "output_type": "execute_result",
          "data": {
            "text/plain": [
              "['I', \"'m\", 'a', 'huge', 'fan']"
            ]
          },
          "metadata": {
            "tags": []
          },
          "execution_count": 8
        }
      ]
    },
    {
      "cell_type": "markdown",
      "metadata": {
        "id": "StqYSvVjq9Lr",
        "colab_type": "text"
      },
      "source": [
        "Next thing to do is build our vocabulary. We'll define an ```idx2word``` lookup table for quick lookups (and a ```word2idx``` later on for the opposite lookup). We define a set ```vocab_set``` for quick membership checking."
      ]
    },
    {
      "cell_type": "code",
      "metadata": {
        "id": "_t8OKKnHHBAs",
        "colab_type": "code",
        "outputId": "2216600d-fc7b-4ba5-9aa6-4842dc17c6f5",
        "colab": {
          "base_uri": "https://localhost:8080/",
          "height": 34
        }
      },
      "source": [
        "idx2word = {0: '<unk>', 1: '<pad>'}\n",
        "vocab_set = set(idx2word.values())\n",
        "\n",
        "# Add the word to the vocabulary if it's not in the vocab set\n",
        "for text in tqdm(X_train):\n",
        "  for word in text:\n",
        "    if word not in vocab_set:\n",
        "      idx2word[len(vocab_set)] = word\n",
        "      vocab_set.add(word)\n",
        "  \n",
        "# Reverse the idx2word dictionary\n",
        "word2idx = {idx2word[ix]: ix for ix in range(len(vocab_set))}"
      ],
      "execution_count": 0,
      "outputs": [
        {
          "output_type": "stream",
          "text": [
            "100%|██████████| 7000/7000 [00:00<00:00, 21154.92it/s]\n"
          ],
          "name": "stderr"
        }
      ]
    },
    {
      "cell_type": "markdown",
      "metadata": {
        "id": "07JIvDr1rRd0",
        "colab_type": "text"
      },
      "source": [
        "Let's check how many tokens we have in the vocabulary."
      ]
    },
    {
      "cell_type": "code",
      "metadata": {
        "id": "uLdW9tpCM9-a",
        "colab_type": "code",
        "outputId": "f7d64d5d-2505-4bf5-94d9-b8e3ca8652a1",
        "colab": {
          "base_uri": "https://localhost:8080/",
          "height": 34
        }
      },
      "source": [
        "len(vocab_set)"
      ],
      "execution_count": 0,
      "outputs": [
        {
          "output_type": "execute_result",
          "data": {
            "text/plain": [
              "63885"
            ]
          },
          "metadata": {
            "tags": []
          },
          "execution_count": 10
        }
      ]
    },
    {
      "cell_type": "markdown",
      "metadata": {
        "id": "U8Fk4YscrUBh",
        "colab_type": "text"
      },
      "source": [
        "Next, we'll have the convert the tokens into their vocabulary indices (as networks cannot take raw words/tokens). We'll also have to set a maximum sequence length (msl). If a sentence is too long, we cut it, otherwise we pad it.\n",
        "\n",
        "We'll write another helper function for this."
      ]
    },
    {
      "cell_type": "code",
      "metadata": {
        "id": "N0kwD0-0Jui0",
        "colab_type": "code",
        "colab": {}
      },
      "source": [
        "def vectorize(text, word2idx, vocab_set, msl):\n",
        "  v_text = [word2idx[word] if word in vocab_set else word2idx['<unk>'] for word in text]\n",
        "  \n",
        "  # Truncate to MSL\n",
        "  v_text = v_text[:msl]\n",
        "  \n",
        "  # If shorter than MSL, pad the sequence\n",
        "  if len(v_text) < msl:\n",
        "    v_text = v_text + [word2idx['<pad>'] for _ in range(msl - len(v_text))]\n",
        "  \n",
        "  return v_text"
      ],
      "execution_count": 0,
      "outputs": []
    },
    {
      "cell_type": "markdown",
      "metadata": {
        "id": "c3KQxtlFri6r",
        "colab_type": "text"
      },
      "source": [
        "Let's set the maximum sequence length to 128 and process the training and validation sets."
      ]
    },
    {
      "cell_type": "code",
      "metadata": {
        "id": "lwHJjqbmKMLT",
        "colab_type": "code",
        "outputId": "6c6041b1-eaad-46a1-9dfb-233ddd2dfb7a",
        "colab": {
          "base_uri": "https://localhost:8080/",
          "height": 51
        }
      },
      "source": [
        "msl = 128\n",
        "\n",
        "X_train =  [vectorize(text, word2idx, vocab_set, msl) for text in tqdm(X_train)]\n",
        "X_val =  [vectorize(text, word2idx, vocab_set, msl) for text in tqdm(X_val)]"
      ],
      "execution_count": 0,
      "outputs": [
        {
          "output_type": "stream",
          "text": [
            "100%|██████████| 7000/7000 [00:00<00:00, 14004.35it/s]\n",
            "100%|██████████| 3000/3000 [00:00<00:00, 14056.43it/s]\n"
          ],
          "name": "stderr"
        }
      ]
    },
    {
      "cell_type": "markdown",
      "metadata": {
        "id": "9PwplrhWroCP",
        "colab_type": "text"
      },
      "source": [
        "Let's check the first item again."
      ]
    },
    {
      "cell_type": "code",
      "metadata": {
        "id": "HXEbUYMuKiX2",
        "colab_type": "code",
        "outputId": "e9557e5c-5b30-407f-b58b-6619a4588082",
        "colab": {
          "base_uri": "https://localhost:8080/",
          "height": 34
        }
      },
      "source": [
        "X_train[0][:5]"
      ],
      "execution_count": 0,
      "outputs": [
        {
          "output_type": "execute_result",
          "data": {
            "text/plain": [
              "[2, 3, 4, 5, 6]"
            ]
          },
          "metadata": {
            "tags": []
          },
          "execution_count": 13
        }
      ]
    },
    {
      "cell_type": "markdown",
      "metadata": {
        "id": "lMHt-jNjrqJr",
        "colab_type": "text"
      },
      "source": [
        "We now convert the lists of lists into a tensor."
      ]
    },
    {
      "cell_type": "code",
      "metadata": {
        "id": "LUBgJ62XKmRe",
        "colab_type": "code",
        "colab": {}
      },
      "source": [
        "X_train = torch.LongTensor(X_train)\n",
        "X_val = torch.LongTensor(X_val)\n",
        "\n",
        "y_train = torch.LongTensor(y_train)\n",
        "y_val = torch.LongTensor(y_val)"
      ],
      "execution_count": 0,
      "outputs": []
    },
    {
      "cell_type": "markdown",
      "metadata": {
        "id": "0jMfSKqQrut4",
        "colab_type": "text"
      },
      "source": [
        "Let's check their shapes."
      ]
    },
    {
      "cell_type": "code",
      "metadata": {
        "id": "Pa8nqFjJNmfZ",
        "colab_type": "code",
        "outputId": "97558fb6-2d7c-462c-fc99-c95f1c7152b4",
        "colab": {
          "base_uri": "https://localhost:8080/",
          "height": 85
        }
      },
      "source": [
        "print(\"{}\\n{}\\n{}\\n{}\".format(X_train.shape, y_train.shape, X_val.shape, y_val.shape))"
      ],
      "execution_count": 0,
      "outputs": [
        {
          "output_type": "stream",
          "text": [
            "torch.Size([7000, 128])\n",
            "torch.Size([7000])\n",
            "torch.Size([3000, 128])\n",
            "torch.Size([3000])\n"
          ],
          "name": "stdout"
        }
      ]
    },
    {
      "cell_type": "markdown",
      "metadata": {
        "id": "exmJWOE3rwHL",
        "colab_type": "text"
      },
      "source": [
        "And build the minibatches using dataloaders."
      ]
    },
    {
      "cell_type": "code",
      "metadata": {
        "id": "P6sJQdrNNwRU",
        "colab_type": "code",
        "colab": {}
      },
      "source": [
        "bs = 32\n",
        "\n",
        "train_set = data_utils.TensorDataset(X_train, y_train)\n",
        "val_set = data_utils.TensorDataset(X_val, y_val)\n",
        "\n",
        "train_loader = data_utils.DataLoader(train_set, bs)\n",
        "val_loader = data_utils.DataLoader(val_set, bs)"
      ],
      "execution_count": 0,
      "outputs": []
    },
    {
      "cell_type": "markdown",
      "metadata": {
        "id": "kETdDVmOr0Ls",
        "colab_type": "text"
      },
      "source": [
        "We can check the number of batches available."
      ]
    },
    {
      "cell_type": "code",
      "metadata": {
        "id": "5_VfI39KOKY1",
        "colab_type": "code",
        "outputId": "0bdb1c41-1a18-417c-c5a6-06e843c26aea",
        "colab": {
          "base_uri": "https://localhost:8080/",
          "height": 51
        }
      },
      "source": [
        "print(\"Number of training batches: {}\".format(len(train_loader)))\n",
        "print(\"Number of validation batches: {}\".format(len(val_loader)))"
      ],
      "execution_count": 0,
      "outputs": [
        {
          "output_type": "stream",
          "text": [
            "Number of training batches: 219\n",
            "Number of validation batches: 94\n"
          ],
          "name": "stdout"
        }
      ]
    },
    {
      "cell_type": "markdown",
      "metadata": {
        "id": "YomxkPC6r10Z",
        "colab_type": "text"
      },
      "source": [
        "Let's inspect the batches."
      ]
    },
    {
      "cell_type": "code",
      "metadata": {
        "id": "eHkcuRRxO16J",
        "colab_type": "code",
        "colab": {}
      },
      "source": [
        "batches = [b for b in train_loader]"
      ],
      "execution_count": 0,
      "outputs": []
    },
    {
      "cell_type": "markdown",
      "metadata": {
        "id": "D-R68mCDr3Wd",
        "colab_type": "text"
      },
      "source": [
        "Here's the first batch."
      ]
    },
    {
      "cell_type": "code",
      "metadata": {
        "id": "VyM6iLZlPQQq",
        "colab_type": "code",
        "outputId": "76fb4533-413c-4e83-9d0f-b08dce8ae800",
        "colab": {
          "base_uri": "https://localhost:8080/",
          "height": 34
        }
      },
      "source": [
        "x, y = batches[0]\n",
        "x.shape, y.shape"
      ],
      "execution_count": 0,
      "outputs": [
        {
          "output_type": "execute_result",
          "data": {
            "text/plain": [
              "(torch.Size([32, 128]), torch.Size([32]))"
            ]
          },
          "metadata": {
            "tags": []
          },
          "execution_count": 19
        }
      ]
    },
    {
      "cell_type": "markdown",
      "metadata": {
        "id": "kI8rIDLMr6Ow",
        "colab_type": "text"
      },
      "source": [
        "We can check the information inside the data and the targets."
      ]
    },
    {
      "cell_type": "code",
      "metadata": {
        "id": "YVYCDPSvPR8H",
        "colab_type": "code",
        "outputId": "36500209-18c1-4da6-f0a7-2a4131b9f163",
        "colab": {
          "base_uri": "https://localhost:8080/",
          "height": 170
        }
      },
      "source": [
        "x, y"
      ],
      "execution_count": 0,
      "outputs": [
        {
          "output_type": "execute_result",
          "data": {
            "text/plain": [
              "(tensor([[   2,    3,    4,  ...,   78,   84,   19],\n",
              "         [ 164,  165,  166,  ...,  231,  232,  233],\n",
              "         [ 150,   43,  379,  ...,    1,    1,    1],\n",
              "         ...,\n",
              "         [   2,  250,  114,  ...,  579,  433, 2083],\n",
              "         [  91, 2414,   91,  ...,    7, 2446,   23],\n",
              "         [  98,  156, 2454,  ...,   23,    1,    1]]),\n",
              " tensor([1, 0, 0, 0, 0, 1, 0, 1, 1, 0, 0, 1, 1, 1, 0, 1, 0, 1, 1, 1, 1, 0, 0, 1,\n",
              "         0, 1, 0, 1, 1, 1, 0, 0]))"
            ]
          },
          "metadata": {
            "tags": []
          },
          "execution_count": 20
        }
      ]
    },
    {
      "cell_type": "markdown",
      "metadata": {
        "id": "jfey9Cprr85m",
        "colab_type": "text"
      },
      "source": [
        "Likewise, we can check the last batch and see that it has less than 32 items."
      ]
    },
    {
      "cell_type": "code",
      "metadata": {
        "id": "iQSVowxzPVf7",
        "colab_type": "code",
        "outputId": "bc7d081d-7bbb-42f7-bd03-2ef46ea5cd39",
        "colab": {
          "base_uri": "https://localhost:8080/",
          "height": 34
        }
      },
      "source": [
        "x, y = batches[-1]\n",
        "x.shape, y.shape"
      ],
      "execution_count": 0,
      "outputs": [
        {
          "output_type": "execute_result",
          "data": {
            "text/plain": [
              "(torch.Size([24, 128]), torch.Size([24]))"
            ]
          },
          "metadata": {
            "tags": []
          },
          "execution_count": 21
        }
      ]
    },
    {
      "cell_type": "markdown",
      "metadata": {
        "id": "1oBcfDAxPo40",
        "colab_type": "text"
      },
      "source": [
        "# Basic Recurrent Neural Networks"
      ]
    },
    {
      "cell_type": "markdown",
      "metadata": {
        "id": "WuTzoMMKySb2",
        "colab_type": "text"
      },
      "source": [
        "Next, we'll build a sentiment classifier. We'll first implement a basic Long Short-Term Memory (LSTM) Network (Hochreiter & Schmidhuber, 1997) for this. \n",
        "\n",
        "First things first, we'll look at how embeddings work in PyTorch. We can construct an embedding lookup layer using the ```nn.Embedding``` interface, supplying the size of ouur vocabulary and the dimensions of the emeddings we want.\n",
        "\n",
        "For this example, we'll use 100-dimensional embeddings. Each token $x$ will be represented by a vector $v \\in E^{100}$."
      ]
    },
    {
      "cell_type": "code",
      "metadata": {
        "id": "y23L6kqkPYa9",
        "colab_type": "code",
        "colab": {}
      },
      "source": [
        "vocab_sz = len(vocab_set)\n",
        "emb_dim = 100\n",
        "\n",
        "embeddings = nn.Embedding(vocab_sz, emb_dim)"
      ],
      "execution_count": 0,
      "outputs": []
    },
    {
      "cell_type": "markdown",
      "metadata": {
        "id": "8RRmaS7AziJ_",
        "colab_type": "text"
      },
      "source": [
        "Since PyTorch is eager by default, we can check how the embeddings look and behave. Let's get the first batch.\n",
        "\n",
        "Note that ```x``` is a tensor of shape $[bs , msl]$."
      ]
    },
    {
      "cell_type": "code",
      "metadata": {
        "id": "WFqCzn0WQFc6",
        "colab_type": "code",
        "colab": {}
      },
      "source": [
        "x, y = batches[0]"
      ],
      "execution_count": 0,
      "outputs": []
    },
    {
      "cell_type": "markdown",
      "metadata": {
        "id": "Ews0dqpKz7ve",
        "colab_type": "text"
      },
      "source": [
        "Let's pass it through the embedding layer."
      ]
    },
    {
      "cell_type": "code",
      "metadata": {
        "id": "Kbh6RXfAQKPm",
        "colab_type": "code",
        "colab": {}
      },
      "source": [
        "out = embeddings(x)"
      ],
      "execution_count": 0,
      "outputs": []
    },
    {
      "cell_type": "markdown",
      "metadata": {
        "id": "Ib6MpHWkz9wa",
        "colab_type": "text"
      },
      "source": [
        "And check the shape."
      ]
    },
    {
      "cell_type": "code",
      "metadata": {
        "id": "2yRjDsFNQLOD",
        "colab_type": "code",
        "outputId": "9c0ec9d0-e566-4219-f80f-1a77886ef572",
        "colab": {
          "base_uri": "https://localhost:8080/",
          "height": 34
        }
      },
      "source": [
        "out.shape"
      ],
      "execution_count": 0,
      "outputs": [
        {
          "output_type": "execute_result",
          "data": {
            "text/plain": [
              "torch.Size([32, 128, 100])"
            ]
          },
          "metadata": {
            "tags": []
          },
          "execution_count": 25
        }
      ]
    },
    {
      "cell_type": "markdown",
      "metadata": {
        "id": "ZUBNAz6mz_Kj",
        "colab_type": "text"
      },
      "source": [
        "We've now added a third dimension as each token in each sentence has been expended to a size-100 vector.\n",
        "\n",
        "We can check the first item in the batch."
      ]
    },
    {
      "cell_type": "code",
      "metadata": {
        "id": "TIQMeEDQQM9T",
        "colab_type": "code",
        "outputId": "7ec9c07e-aded-401f-f046-32fc1856052c",
        "colab": {
          "base_uri": "https://localhost:8080/",
          "height": 170
        }
      },
      "source": [
        "out[0].shape, out[0]"
      ],
      "execution_count": 0,
      "outputs": [
        {
          "output_type": "execute_result",
          "data": {
            "text/plain": [
              "(torch.Size([128, 100]),\n",
              " tensor([[-0.5208, -0.9320,  0.1852,  ...,  0.7122, -0.0318,  0.1016],\n",
              "         [ 1.3433,  0.7133,  0.3463,  ...,  0.8244,  1.4862, -1.4091],\n",
              "         [-0.7602, -0.4075,  0.9624,  ...,  0.0950, -0.7526, -0.6472],\n",
              "         ...,\n",
              "         [ 0.1549, -0.2794,  0.8709,  ...,  0.8653,  0.4257, -0.2335],\n",
              "         [-0.7383, -0.7052,  0.4542,  ..., -1.1416, -1.5392, -1.1881],\n",
              "         [ 1.0186, -0.1513, -0.9719,  ...,  0.4532,  1.1673,  0.7931]],\n",
              "        grad_fn=<SelectBackward>))"
            ]
          },
          "metadata": {
            "tags": []
          },
          "execution_count": 26
        }
      ]
    },
    {
      "cell_type": "markdown",
      "metadata": {
        "id": "ElWzKsha0LOb",
        "colab_type": "text"
      },
      "source": [
        "We can see the shape $[msl, emb\\_dim]$ as each token in the 128-length sequence is assigned a 100-dimension vector to represent it. These embeddings will be trained with the network as we go.\n",
        "\n",
        "We're now ready to pass on the data to an LSTM layer. PyTorch provides an ```nn.LSTM``` interface, passing in the embedding dimensions and our desired number of hidden units for the recurrent layer.\n",
        "\n",
        "You may type in ```nn.LSTM?``` to check inline documentation for the module."
      ]
    },
    {
      "cell_type": "code",
      "metadata": {
        "id": "3BDo_g7ra-vI",
        "colab_type": "code",
        "colab": {}
      },
      "source": [
        "hidden_dim = 128\n",
        "\n",
        "rnn = nn.LSTM(emb_dim, hidden_dim)"
      ],
      "execution_count": 0,
      "outputs": []
    },
    {
      "cell_type": "markdown",
      "metadata": {
        "id": "demFYbZf0twG",
        "colab_type": "text"
      },
      "source": [
        "Next, we'll have to instantiate the initial hidden and cell states, both of which should contain zeros. They're of shape $[1, bs, hidden\\_dim]$ each.\n",
        "\n",
        "The hidden state acts as a \"long term memory\" tape for the model, while the cell state acts as \"short term memory\" that the LSTM can use while calculating which information to pass on from the current timestep.\n",
        "\n",
        "For more information on how LSTMs work, refer to Section 10.10 of Deep Learning (Goodfellow, Bengio & Courville, 2016)."
      ]
    },
    {
      "cell_type": "code",
      "metadata": {
        "id": "h6VJPgAGa-1U",
        "colab_type": "code",
        "colab": {}
      },
      "source": [
        "h, c = torch.zeros(1, bs, hidden_dim), torch.zeros(1, bs, hidden_dim)"
      ],
      "execution_count": 0,
      "outputs": []
    },
    {
      "cell_type": "markdown",
      "metadata": {
        "id": "ZTBjeeTQ1wiZ",
        "colab_type": "text"
      },
      "source": [
        "LSTMs in PyTorch require inputs with the shape $[msl, bs, emb\\_dim]$, but our current embedded inputs are $[bs, msl, emb\\_dim]$. We'll have to \"permute\" the inputs to reshape the dimensions. This is easily done using the ```.permute()``` function.\n",
        "\n",
        "We can then pass in the data and the initial hidden and cell states, then get our outputs, as well as the updated hidden and cell states."
      ]
    },
    {
      "cell_type": "code",
      "metadata": {
        "id": "pMuNdCmha-49",
        "colab_type": "code",
        "colab": {}
      },
      "source": [
        "out = out.permute(1, 0, 2)\n",
        "\n",
        "out, (h, c) = rnn(out, (h, c))"
      ],
      "execution_count": 0,
      "outputs": []
    },
    {
      "cell_type": "markdown",
      "metadata": {
        "id": "w6N_Y5oC2FlS",
        "colab_type": "text"
      },
      "source": [
        "We can check the shapes of these tensors."
      ]
    },
    {
      "cell_type": "code",
      "metadata": {
        "id": "hu8WxVXPa-8Q",
        "colab_type": "code",
        "outputId": "1560c27d-e724-43d5-fb4e-f91e8c4d63cf",
        "colab": {
          "base_uri": "https://localhost:8080/",
          "height": 68
        }
      },
      "source": [
        "out.shape, h.shape, c.shape"
      ],
      "execution_count": 0,
      "outputs": [
        {
          "output_type": "execute_result",
          "data": {
            "text/plain": [
              "(torch.Size([128, 32, 128]),\n",
              " torch.Size([1, 32, 128]),\n",
              " torch.Size([1, 32, 128]))"
            ]
          },
          "metadata": {
            "tags": []
          },
          "execution_count": 30
        }
      ]
    },
    {
      "cell_type": "markdown",
      "metadata": {
        "id": "0FASoqJV2Igy",
        "colab_type": "text"
      },
      "source": [
        "These \"encoded features\" can then be used in any way we like. In this case, we want to pass it on to a softmax layer to compute probabilities (since we're classifying).\n",
        "\n",
        "We'll instantiate a linear transform layer, passing on the number of hidden units used by the LSTM, as well as the number of output units, which is 2 since we have 2 labels."
      ]
    },
    {
      "cell_type": "code",
      "metadata": {
        "id": "tYkBUEtLa-_O",
        "colab_type": "code",
        "colab": {}
      },
      "source": [
        "output_dim = 2\n",
        "\n",
        "fc1 = nn.Linear(hidden_dim, output_dim)"
      ],
      "execution_count": 0,
      "outputs": []
    },
    {
      "cell_type": "markdown",
      "metadata": {
        "id": "vNtxMqxz2fLt",
        "colab_type": "text"
      },
      "source": [
        "Now, which among the output, the hidden, and the cell states are we to pass on?\n",
        "\n",
        "Well, in this case we're mostly concerned with the hidden state since it contains the encoded information for all the timesteps in the sequence. We'll want to take the *last hidden state* which contains all the information.\n",
        "\n",
        "We do it, simply by indexing. Then we can pass it on to our linear layer."
      ]
    },
    {
      "cell_type": "code",
      "metadata": {
        "id": "xhGOHj3Da_Ci",
        "colab_type": "code",
        "colab": {}
      },
      "source": [
        "out = h[-1, :, :]\n",
        "\n",
        "out = fc1(out)"
      ],
      "execution_count": 0,
      "outputs": []
    },
    {
      "cell_type": "markdown",
      "metadata": {
        "id": "iwYdc_ZZ21sG",
        "colab_type": "text"
      },
      "source": [
        "We can check the shape of the output and verify that it is of shape $[bs, out\\_dim]$."
      ]
    },
    {
      "cell_type": "code",
      "metadata": {
        "id": "5qAJTE12cAHN",
        "colab_type": "code",
        "outputId": "ac6e98e3-a2f4-41d0-a016-ba1e4aba94db",
        "colab": {
          "base_uri": "https://localhost:8080/",
          "height": 34
        }
      },
      "source": [
        "out.shape"
      ],
      "execution_count": 0,
      "outputs": [
        {
          "output_type": "execute_result",
          "data": {
            "text/plain": [
              "torch.Size([32, 2])"
            ]
          },
          "metadata": {
            "tags": []
          },
          "execution_count": 33
        }
      ]
    },
    {
      "cell_type": "markdown",
      "metadata": {
        "id": "_38zrZHR26dZ",
        "colab_type": "text"
      },
      "source": [
        "We can then apply softmax to it, or any other activation for that matter."
      ]
    },
    {
      "cell_type": "code",
      "metadata": {
        "id": "-BOTw4b9cAKM",
        "colab_type": "code",
        "outputId": "01b1db95-8964-46b4-9b83-ad7f41dac445",
        "colab": {
          "base_uri": "https://localhost:8080/",
          "height": 102
        }
      },
      "source": [
        "torch.softmax(out, dim=-1)[:5]"
      ],
      "execution_count": 0,
      "outputs": [
        {
          "output_type": "execute_result",
          "data": {
            "text/plain": [
              "tensor([[0.5328, 0.4672],\n",
              "        [0.5253, 0.4747],\n",
              "        [0.5448, 0.4552],\n",
              "        [0.4985, 0.5015],\n",
              "        [0.4885, 0.5115]], grad_fn=<SliceBackward>)"
            ]
          },
          "metadata": {
            "tags": []
          },
          "execution_count": 34
        }
      ]
    },
    {
      "cell_type": "markdown",
      "metadata": {
        "id": "Q8KsednE29iq",
        "colab_type": "text"
      },
      "source": [
        "Putting it all together into an ```nn.Module```, we get our final model.\n",
        "\n",
        "We'll also add in a ```nn.Dropout``` layer to regularize our network a bit."
      ]
    },
    {
      "cell_type": "code",
      "metadata": {
        "id": "nfHZ-eAIcAiL",
        "colab_type": "code",
        "colab": {}
      },
      "source": [
        "class LSTMClassifier(nn.Module):\n",
        "  def __init__(self, vocab_sz, emb_dim, hidden_dim, out_dim, dropout=0.5):\n",
        "    super(LSTMClassifier, self).__init__()\n",
        "    self.embeddings = nn.Embedding(vocab_sz, emb_dim)\n",
        "    self.rnn = nn.LSTM(emb_dim, hidden_dim)\n",
        "    self.fc1 = nn.Linear(hidden_dim, out_dim)\n",
        "    self.dropout = nn.Dropout(dropout)\n",
        "    \n",
        "  def init_hidden(self, bs):\n",
        "    h, c = torch.zeros(1, bs, self.rnn.hidden_size), torch.zeros(1, bs, self.rnn.hidden_size)\n",
        "    \n",
        "    # The following line simply checks if the weights are in the GPU.\n",
        "    # If they are, put the hidden and cell states in GPU as well.\n",
        "    if next(model.parameters()).is_cuda:\n",
        "      h = h.to(device)\n",
        "      c = c.to(device)\n",
        "    return h, c\n",
        "    \n",
        "  def forward(self, x):\n",
        "    bs, msl = x.shape\n",
        "    h, c = self.init_hidden(bs)\n",
        "    \n",
        "    out = self.embeddings(x).permute(1, 0, 2)\n",
        "    out, (h, c) = self.rnn(out, (h, c))\n",
        "    out = h[-1, :, :]\n",
        "    out = self.dropout(out)\n",
        "    \n",
        "    out = self.fc1(out)\n",
        "    \n",
        "    return out"
      ],
      "execution_count": 0,
      "outputs": []
    },
    {
      "cell_type": "markdown",
      "metadata": {
        "id": "edLcBx3g3jCU",
        "colab_type": "text"
      },
      "source": [
        "We can instantiate an instance of our model."
      ]
    },
    {
      "cell_type": "code",
      "metadata": {
        "id": "igHP3HxDczSJ",
        "colab_type": "code",
        "colab": {}
      },
      "source": [
        "model = LSTMClassifier(vocab_sz=len(vocab_set), emb_dim=100, hidden_dim=128, out_dim=2)"
      ],
      "execution_count": 0,
      "outputs": []
    },
    {
      "cell_type": "markdown",
      "metadata": {
        "id": "v_QReR5l3lSH",
        "colab_type": "text"
      },
      "source": [
        "And check it's architecture quickly."
      ]
    },
    {
      "cell_type": "code",
      "metadata": {
        "id": "OyU77uJrfgUT",
        "colab_type": "code",
        "outputId": "b7da7655-42d9-44b9-c662-e285428a96a6",
        "colab": {
          "base_uri": "https://localhost:8080/",
          "height": 119
        }
      },
      "source": [
        "model"
      ],
      "execution_count": 0,
      "outputs": [
        {
          "output_type": "execute_result",
          "data": {
            "text/plain": [
              "LSTMClassifier(\n",
              "  (embeddings): Embedding(63885, 100)\n",
              "  (rnn): LSTM(100, 128)\n",
              "  (fc1): Linear(in_features=128, out_features=2, bias=True)\n",
              "  (dropout): Dropout(p=0.5)\n",
              ")"
            ]
          },
          "metadata": {
            "tags": []
          },
          "execution_count": 37
        }
      ]
    },
    {
      "cell_type": "markdown",
      "metadata": {
        "id": "V7G_pDln3nJk",
        "colab_type": "text"
      },
      "source": [
        "Let's test it out by taking a batch."
      ]
    },
    {
      "cell_type": "code",
      "metadata": {
        "id": "sdQA2xXtVL7S",
        "colab_type": "code",
        "colab": {}
      },
      "source": [
        "x, y = batches[0]"
      ],
      "execution_count": 0,
      "outputs": []
    },
    {
      "cell_type": "markdown",
      "metadata": {
        "id": "0WfvaiS83xo3",
        "colab_type": "text"
      },
      "source": [
        "And passing it on to the model."
      ]
    },
    {
      "cell_type": "code",
      "metadata": {
        "id": "K-TGd-p4TnTq",
        "colab_type": "code",
        "colab": {}
      },
      "source": [
        "out = model(x)"
      ],
      "execution_count": 0,
      "outputs": []
    },
    {
      "cell_type": "markdown",
      "metadata": {
        "id": "zD2qs_493zZM",
        "colab_type": "text"
      },
      "source": [
        "And we get the expected shapes."
      ]
    },
    {
      "cell_type": "code",
      "metadata": {
        "id": "xJFGQF_AU0ON",
        "colab_type": "code",
        "outputId": "66a19ead-cd58-4721-9b01-418c8fa6a221",
        "colab": {
          "base_uri": "https://localhost:8080/",
          "height": 119
        }
      },
      "source": [
        "print(out.shape)\n",
        "print(out[:5])"
      ],
      "execution_count": 0,
      "outputs": [
        {
          "output_type": "stream",
          "text": [
            "torch.Size([32, 2])\n",
            "tensor([[-0.2072,  0.0464],\n",
            "        [-0.0998,  0.1200],\n",
            "        [-0.0274,  0.1417],\n",
            "        [ 0.0304,  0.0217],\n",
            "        [ 0.0453,  0.2848]], grad_fn=<SliceBackward>)\n"
          ],
          "name": "stdout"
        }
      ]
    },
    {
      "cell_type": "markdown",
      "metadata": {
        "id": "T9n02fWh32Gy",
        "colab_type": "text"
      },
      "source": [
        "We can then compute a loss. We'll use cross entropy as our criterion."
      ]
    },
    {
      "cell_type": "code",
      "metadata": {
        "id": "8o_27qyeU06e",
        "colab_type": "code",
        "colab": {}
      },
      "source": [
        "criterion = nn.CrossEntropyLoss()"
      ],
      "execution_count": 0,
      "outputs": []
    },
    {
      "cell_type": "markdown",
      "metadata": {
        "id": "_WDnSvWk353o",
        "colab_type": "text"
      },
      "source": [
        "Taking the loss is simple."
      ]
    },
    {
      "cell_type": "code",
      "metadata": {
        "id": "HlHDLYmMVGDK",
        "colab_type": "code",
        "colab": {}
      },
      "source": [
        "loss = criterion(out, y)"
      ],
      "execution_count": 0,
      "outputs": []
    },
    {
      "cell_type": "markdown",
      "metadata": {
        "id": "sbB4_jAL38ou",
        "colab_type": "text"
      },
      "source": [
        "And we can see the output."
      ]
    },
    {
      "cell_type": "code",
      "metadata": {
        "id": "PjgckFgkVHZ2",
        "colab_type": "code",
        "outputId": "22990a0c-acb0-45a4-a9ac-e44896cebd67",
        "colab": {
          "base_uri": "https://localhost:8080/",
          "height": 34
        }
      },
      "source": [
        "loss"
      ],
      "execution_count": 0,
      "outputs": [
        {
          "output_type": "execute_result",
          "data": {
            "text/plain": [
              "tensor(0.6813, grad_fn=<NllLossBackward>)"
            ]
          },
          "metadata": {
            "tags": []
          },
          "execution_count": 43
        }
      ]
    },
    {
      "cell_type": "markdown",
      "metadata": {
        "id": "rrnxI0wy39wr",
        "colab_type": "text"
      },
      "source": [
        "Likewise we can compute for accuracy.\n",
        "\n",
        "How this function works: ```torch.exp()``` undos the natural log on the softmax, then ```torch.max(dim=1)``` finds the max on the first dimension. This function gives two outputs, the second one is the index of the max values (either 0 and 1) and that's what we want. We compare with our target $y$, take the value, then compute the percentage."
      ]
    },
    {
      "cell_type": "code",
      "metadata": {
        "id": "ayIMQeYyV13y",
        "colab_type": "code",
        "colab": {}
      },
      "source": [
        "def accuracy(out, y):\n",
        "  return torch.sum(torch.max(torch.exp(out), dim=1)[1] == y).item() / len(y)"
      ],
      "execution_count": 0,
      "outputs": []
    },
    {
      "cell_type": "markdown",
      "metadata": {
        "id": "HFQKg8nt4g9s",
        "colab_type": "text"
      },
      "source": [
        "And we get our accuracy."
      ]
    },
    {
      "cell_type": "code",
      "metadata": {
        "id": "Wc0LerETV161",
        "colab_type": "code",
        "outputId": "20c7dd05-f35c-439e-b752-18c9007e881e",
        "colab": {
          "base_uri": "https://localhost:8080/",
          "height": 34
        }
      },
      "source": [
        "accuracy(out, y)"
      ],
      "execution_count": 0,
      "outputs": [
        {
          "output_type": "execute_result",
          "data": {
            "text/plain": [
              "0.5625"
            ]
          },
          "metadata": {
            "tags": []
          },
          "execution_count": 45
        }
      ]
    },
    {
      "cell_type": "markdown",
      "metadata": {
        "id": "owCRbuntVm4i",
        "colab_type": "text"
      },
      "source": [
        "# Training"
      ]
    },
    {
      "cell_type": "markdown",
      "metadata": {
        "id": "vfh4zRqA4kNH",
        "colab_type": "text"
      },
      "source": [
        "We can instantiate our model and optimizers for training. We'll use Adam (Kingma & Ba, 2014) for this."
      ]
    },
    {
      "cell_type": "code",
      "metadata": {
        "id": "1tdwJpzJVPyM",
        "colab_type": "code",
        "colab": {}
      },
      "source": [
        "model = LSTMClassifier(vocab_sz=len(vocab_set), emb_dim=100, hidden_dim=128, out_dim=2, dropout=0.5).to(device)\n",
        "criterion = nn.CrossEntropyLoss()\n",
        "optimizer = optim.Adam(model.parameters(), lr=1e-4)"
      ],
      "execution_count": 0,
      "outputs": []
    },
    {
      "cell_type": "markdown",
      "metadata": {
        "id": "vVXsNI5c4pnd",
        "colab_type": "text"
      },
      "source": [
        "We'll train for 10 epochs. We'll also keep track of the losses so we can graph them later.\n",
        "\n",
        "For this example, we'll also employ some gradient clipping to prevent the gradients from exploding."
      ]
    },
    {
      "cell_type": "code",
      "metadata": {
        "id": "RSO3k0huVuTf",
        "colab_type": "code",
        "outputId": "ee0278ed-9c19-4187-91f9-fb54bd09ae00",
        "colab": {
          "base_uri": "https://localhost:8080/",
          "height": 697
        }
      },
      "source": [
        "epochs = 10\n",
        "clip = 0.25\n",
        "train_losses = []\n",
        "val_losses = []\n",
        "\n",
        "for e in range(1, epochs + 1):\n",
        "  train_loss = 0\n",
        "  train_acc = 0\n",
        "\n",
        "  model.train()\n",
        "  for batch in tqdm(train_loader):\n",
        "    x, y = batch\n",
        "    x = x.to(device)\n",
        "    y = y.to(device)\n",
        "\n",
        "    out = model(x)\n",
        "    loss = criterion(out, y)\n",
        "\n",
        "    optimizer.zero_grad()\n",
        "    loss.backward()\n",
        "    nn.utils.clip_grad_norm_(model.parameters(), clip)\n",
        "    optimizer.step()\n",
        "\n",
        "    train_loss += loss.item()\n",
        "    train_acc += accuracy(out, y)\n",
        "\n",
        "  train_loss /= len(train_loader)\n",
        "  train_acc /= len(train_loader)\n",
        "  \n",
        "  train_losses.append(train_loss)\n",
        "\n",
        "  val_loss = 0\n",
        "  val_acc = 0\n",
        "\n",
        "  model.eval()\n",
        "  for batch in tqdm(val_loader):\n",
        "    with torch.no_grad():\n",
        "      x, y = batch\n",
        "      x = x.to(device)\n",
        "      y = y.to(device)\n",
        "\n",
        "      out = model(x)\n",
        "      loss = criterion(out, y)\n",
        "\n",
        "      val_loss += loss.item()\n",
        "      val_acc += accuracy(out, y)\n",
        "\n",
        "  val_loss /= len(val_loader)\n",
        "  val_acc /= len(val_loader)\n",
        "  \n",
        "  val_losses.append(val_loss)\n",
        "\n",
        "  print(\"\\nEpoch {:3} | Train Loss: {:.4f} | Train Acc: {:.4f} | Val Loss: {:.4f} | Val Acc: {:.4f}\".format(e, train_loss, train_acc, val_loss, val_acc))"
      ],
      "execution_count": 0,
      "outputs": [
        {
          "output_type": "stream",
          "text": [
            "100%|██████████| 219/219 [00:06<00:00, 33.13it/s]\n",
            "100%|██████████| 94/94 [00:00<00:00, 142.76it/s]\n",
            "  2%|▏         | 4/219 [00:00<00:05, 36.25it/s]"
          ],
          "name": "stderr"
        },
        {
          "output_type": "stream",
          "text": [
            "\n",
            "Epoch   1 | Train Loss: 0.6951 | Train Acc: 0.5073 | Val Loss: 0.6924 | Val Acc: 0.5171\n"
          ],
          "name": "stdout"
        },
        {
          "output_type": "stream",
          "text": [
            "100%|██████████| 219/219 [00:06<00:00, 35.10it/s]\n",
            "100%|██████████| 94/94 [00:00<00:00, 146.39it/s]\n",
            "  2%|▏         | 4/219 [00:00<00:06, 35.61it/s]"
          ],
          "name": "stderr"
        },
        {
          "output_type": "stream",
          "text": [
            "\n",
            "Epoch   2 | Train Loss: 0.6928 | Train Acc: 0.5223 | Val Loss: 0.6916 | Val Acc: 0.5228\n"
          ],
          "name": "stdout"
        },
        {
          "output_type": "stream",
          "text": [
            "100%|██████████| 219/219 [00:06<00:00, 35.09it/s]\n",
            "100%|██████████| 94/94 [00:00<00:00, 141.02it/s]\n",
            "  2%|▏         | 4/219 [00:00<00:05, 36.57it/s]"
          ],
          "name": "stderr"
        },
        {
          "output_type": "stream",
          "text": [
            "\n",
            "Epoch   3 | Train Loss: 0.6912 | Train Acc: 0.5300 | Val Loss: 0.6913 | Val Acc: 0.5227\n"
          ],
          "name": "stdout"
        },
        {
          "output_type": "stream",
          "text": [
            "100%|██████████| 219/219 [00:06<00:00, 34.75it/s]\n",
            "100%|██████████| 94/94 [00:00<00:00, 140.00it/s]\n",
            "  2%|▏         | 4/219 [00:00<00:05, 37.59it/s]"
          ],
          "name": "stderr"
        },
        {
          "output_type": "stream",
          "text": [
            "\n",
            "Epoch   4 | Train Loss: 0.6897 | Train Acc: 0.5369 | Val Loss: 0.6909 | Val Acc: 0.5301\n"
          ],
          "name": "stdout"
        },
        {
          "output_type": "stream",
          "text": [
            "100%|██████████| 219/219 [00:06<00:00, 35.45it/s]\n",
            "100%|██████████| 94/94 [00:00<00:00, 142.05it/s]\n",
            "  2%|▏         | 4/219 [00:00<00:05, 36.77it/s]"
          ],
          "name": "stderr"
        },
        {
          "output_type": "stream",
          "text": [
            "\n",
            "Epoch   5 | Train Loss: 0.6876 | Train Acc: 0.5446 | Val Loss: 0.6904 | Val Acc: 0.5275\n"
          ],
          "name": "stdout"
        },
        {
          "output_type": "stream",
          "text": [
            "100%|██████████| 219/219 [00:06<00:00, 35.36it/s]\n",
            "100%|██████████| 94/94 [00:00<00:00, 143.75it/s]\n",
            "  2%|▏         | 4/219 [00:00<00:05, 36.59it/s]"
          ],
          "name": "stderr"
        },
        {
          "output_type": "stream",
          "text": [
            "\n",
            "Epoch   6 | Train Loss: 0.6844 | Train Acc: 0.5609 | Val Loss: 0.6900 | Val Acc: 0.5265\n"
          ],
          "name": "stdout"
        },
        {
          "output_type": "stream",
          "text": [
            "100%|██████████| 219/219 [00:06<00:00, 35.34it/s]\n",
            "100%|██████████| 94/94 [00:00<00:00, 136.25it/s]\n",
            "  2%|▏         | 4/219 [00:00<00:05, 36.60it/s]"
          ],
          "name": "stderr"
        },
        {
          "output_type": "stream",
          "text": [
            "\n",
            "Epoch   7 | Train Loss: 0.6821 | Train Acc: 0.5713 | Val Loss: 0.6896 | Val Acc: 0.5320\n"
          ],
          "name": "stdout"
        },
        {
          "output_type": "stream",
          "text": [
            "100%|██████████| 219/219 [00:06<00:00, 35.05it/s]\n",
            "100%|██████████| 94/94 [00:00<00:00, 140.99it/s]\n",
            "  2%|▏         | 4/219 [00:00<00:05, 36.12it/s]"
          ],
          "name": "stderr"
        },
        {
          "output_type": "stream",
          "text": [
            "\n",
            "Epoch   8 | Train Loss: 0.6783 | Train Acc: 0.5806 | Val Loss: 0.6884 | Val Acc: 0.5382\n"
          ],
          "name": "stdout"
        },
        {
          "output_type": "stream",
          "text": [
            "100%|██████████| 219/219 [00:06<00:00, 35.37it/s]\n",
            "100%|██████████| 94/94 [00:00<00:00, 145.42it/s]\n",
            "  2%|▏         | 4/219 [00:00<00:06, 35.66it/s]"
          ],
          "name": "stderr"
        },
        {
          "output_type": "stream",
          "text": [
            "\n",
            "Epoch   9 | Train Loss: 0.6712 | Train Acc: 0.5946 | Val Loss: 0.6831 | Val Acc: 0.5603\n"
          ],
          "name": "stdout"
        },
        {
          "output_type": "stream",
          "text": [
            "100%|██████████| 219/219 [00:06<00:00, 34.85it/s]\n",
            "100%|██████████| 94/94 [00:00<00:00, 142.97it/s]"
          ],
          "name": "stderr"
        },
        {
          "output_type": "stream",
          "text": [
            "\n",
            "Epoch  10 | Train Loss: 0.6476 | Train Acc: 0.6238 | Val Loss: 0.6394 | Val Acc: 0.6437\n"
          ],
          "name": "stdout"
        },
        {
          "output_type": "stream",
          "text": [
            "\n"
          ],
          "name": "stderr"
        }
      ]
    },
    {
      "cell_type": "markdown",
      "metadata": {
        "id": "EPCYaZg345_-",
        "colab_type": "text"
      },
      "source": [
        "We can then plot our loss curves."
      ]
    },
    {
      "cell_type": "code",
      "metadata": {
        "id": "GXIXpKObXDRp",
        "colab_type": "code",
        "outputId": "3f6090d0-91e8-4796-d097-ac2c5ae6841c",
        "colab": {
          "base_uri": "https://localhost:8080/",
          "height": 286
        }
      },
      "source": [
        "pd.DataFrame(data={'train_loss': train_losses, 'val_loss': val_losses}).plot.line()"
      ],
      "execution_count": 0,
      "outputs": [
        {
          "output_type": "execute_result",
          "data": {
            "text/plain": [
              "<matplotlib.axes._subplots.AxesSubplot at 0x7faee8dd5828>"
            ]
          },
          "metadata": {
            "tags": []
          },
          "execution_count": 48
        },
        {
          "output_type": "display_data",
          "data": {
            "image/png": "[encoded data removed]",
            "text/plain": [
              "<Figure size 432x288 with 1 Axes>"
            ]
          },
          "metadata": {
            "tags": []
          }
        }
      ]
    },
    {
      "cell_type": "markdown",
      "metadata": {
        "id": "zqQckUaHmlE7",
        "colab_type": "text"
      },
      "source": [
        "# Bidirectional + Stacked LSTMs and Pretrained Embeddings"
      ]
    },
    {
      "cell_type": "markdown",
      "metadata": {
        "id": "mdAJ9H1o49_w",
        "colab_type": "text"
      },
      "source": [
        "In this segment, we'll add more capacity to our basic LSTM network by introducing bidirectionality, stacking more LSTMs, and using pretrained embeddings.\n",
        "\n",
        "Likewise, let's take a batch first."
      ]
    },
    {
      "cell_type": "code",
      "metadata": {
        "id": "RLKMow9OYdre",
        "colab_type": "code",
        "colab": {}
      },
      "source": [
        "x, y = batches[0]"
      ],
      "execution_count": 0,
      "outputs": []
    },
    {
      "cell_type": "markdown",
      "metadata": {
        "id": "220cKLh05MQI",
        "colab_type": "text"
      },
      "source": [
        "Let's build our embedding and LSTM layers. We see some new stuff in here.\n",
        "\n",
        "You can specify the number of stacked LSTMs you want (default is 1). Bidirectionality is a boolean you can pass on. We can also introduce dropout between each LSTM layer if the number of layers is > 1."
      ]
    },
    {
      "cell_type": "code",
      "metadata": {
        "id": "Qq78XqpjmsGk",
        "colab_type": "code",
        "colab": {}
      },
      "source": [
        "vocab_sz = len(vocab_set)\n",
        "emb_dim = 100\n",
        "hidden_dim = 128\n",
        "out_dim = 2\n",
        "num_layers = 2\n",
        "bidirectional = True\n",
        "recur_dropout = 0.3\n",
        "\n",
        "embeddings = nn.Embedding(vocab_sz, emb_dim)\n",
        "rnn = nn.LSTM(emb_dim, hidden_dim, bidirectional=bidirectional, \n",
        "              num_layers=num_layers, dropout=recur_dropout)"
      ],
      "execution_count": 0,
      "outputs": []
    },
    {
      "cell_type": "markdown",
      "metadata": {
        "id": "Tc-OigAH5cnJ",
        "colab_type": "text"
      },
      "source": [
        "One of the two things that changes is the shape of the hidden and cell states.\n",
        "\n",
        "Earlier, we simply have states of shape $[1, bs, hidden\\_dim]$.\n",
        "\n",
        "When stacking LSTM layers, each layer gets its own hidden and cell state tensors. A two-layer stacked LSTM thus has states of shape $[2, bs, hidden\\_dim]$.\n",
        "\n",
        "If the network is bidirectional, each layer gets **two** hidden and cell states, one for the forward pass, and the other for the backward pass. A two-layer bidirectional LSTM thus has states of shape $[4, bs, hidden\\_dim]$, and a three layer bidirectional one has $[6, bs, hidden\\_dim]$."
      ]
    },
    {
      "cell_type": "code",
      "metadata": {
        "id": "CVI5HaMem6iw",
        "colab_type": "code",
        "colab": {}
      },
      "source": [
        "direction = 2 if bidirectional else 1\n",
        "\n",
        "h, c = torch.zeros(direction * num_layers, bs, hidden_dim), torch.zeros(direction * num_layers, bs, hidden_dim)"
      ],
      "execution_count": 0,
      "outputs": []
    },
    {
      "cell_type": "markdown",
      "metadata": {
        "id": "oxP8xr5n6XxM",
        "colab_type": "text"
      },
      "source": [
        "We check the shapes of our states."
      ]
    },
    {
      "cell_type": "code",
      "metadata": {
        "id": "pL4e46-ZnKE5",
        "colab_type": "code",
        "outputId": "f3af7650-fd80-44b7-f4b2-87b84d284ae1",
        "colab": {
          "base_uri": "https://localhost:8080/",
          "height": 34
        }
      },
      "source": [
        "h.shape, c.shape"
      ],
      "execution_count": 0,
      "outputs": [
        {
          "output_type": "execute_result",
          "data": {
            "text/plain": [
              "(torch.Size([4, 32, 128]), torch.Size([4, 32, 128]))"
            ]
          },
          "metadata": {
            "tags": []
          },
          "execution_count": 52
        }
      ]
    },
    {
      "cell_type": "markdown",
      "metadata": {
        "id": "pKR0duBP6ZgK",
        "colab_type": "text"
      },
      "source": [
        "And passing it on remains the same."
      ]
    },
    {
      "cell_type": "code",
      "metadata": {
        "id": "Tr0vTv6YnM0W",
        "colab_type": "code",
        "colab": {}
      },
      "source": [
        "out = embeddings(x).permute(1, 0, 2)\n",
        "out, (h, c) = rnn(out, (h, c))"
      ],
      "execution_count": 0,
      "outputs": []
    },
    {
      "cell_type": "markdown",
      "metadata": {
        "id": "ION0RBKX6bVj",
        "colab_type": "text"
      },
      "source": [
        "We can check the shapes of the outputs."
      ]
    },
    {
      "cell_type": "code",
      "metadata": {
        "id": "GmFNWrOwnTVt",
        "colab_type": "code",
        "outputId": "4a78a7ab-c98d-4642-a7fa-e01e749c5a18",
        "colab": {
          "base_uri": "https://localhost:8080/",
          "height": 68
        }
      },
      "source": [
        "out.shape, h.shape, c.shape"
      ],
      "execution_count": 0,
      "outputs": [
        {
          "output_type": "execute_result",
          "data": {
            "text/plain": [
              "(torch.Size([128, 32, 256]),\n",
              " torch.Size([4, 32, 128]),\n",
              " torch.Size([4, 32, 128]))"
            ]
          },
          "metadata": {
            "tags": []
          },
          "execution_count": 54
        }
      ]
    },
    {
      "cell_type": "markdown",
      "metadata": {
        "id": "gARcFYyT6djJ",
        "colab_type": "text"
      },
      "source": [
        "**If the network is bidirectional**, indexing the hidden state changes. We take the last two tensors and concatenate them along the first dimension. This represents the last forward and last backward hidden states, which contains all the encoded information. \n",
        "\n"
      ]
    },
    {
      "cell_type": "code",
      "metadata": {
        "id": "KxV-kds0nUbG",
        "colab_type": "code",
        "colab": {}
      },
      "source": [
        "out = torch.cat( (h[-1, :, :], h[-2, :, :]) , dim=1)"
      ],
      "execution_count": 0,
      "outputs": []
    },
    {
      "cell_type": "markdown",
      "metadata": {
        "id": "bK1gipqx6-ht",
        "colab_type": "text"
      },
      "source": [
        "This operation results in a tensor of shape $[bs, hidden\\_dim * 2]$."
      ]
    },
    {
      "cell_type": "code",
      "metadata": {
        "id": "lGKjH4YtnauN",
        "colab_type": "code",
        "outputId": "35d670a2-1e4e-4106-fbf9-cd8bdb4d1ef1",
        "colab": {
          "base_uri": "https://localhost:8080/",
          "height": 34
        }
      },
      "source": [
        "out.shape"
      ],
      "execution_count": 0,
      "outputs": [
        {
          "output_type": "execute_result",
          "data": {
            "text/plain": [
              "torch.Size([32, 256])"
            ]
          },
          "metadata": {
            "tags": []
          },
          "execution_count": 56
        }
      ]
    },
    {
      "cell_type": "markdown",
      "metadata": {
        "id": "0IMLqgI47E1N",
        "colab_type": "text"
      },
      "source": [
        "So if the network is bidirectional, the next layer should also have twice the number of input dimensions."
      ]
    },
    {
      "cell_type": "code",
      "metadata": {
        "id": "AU52zajWnpY6",
        "colab_type": "code",
        "colab": {}
      },
      "source": [
        "fc1 = nn.Linear(hidden_dim * 2, out_dim)"
      ],
      "execution_count": 0,
      "outputs": []
    },
    {
      "cell_type": "markdown",
      "metadata": {
        "id": "prt7XztR7JmI",
        "colab_type": "text"
      },
      "source": [
        "Everything else remains the same."
      ]
    },
    {
      "cell_type": "code",
      "metadata": {
        "id": "2YUlC9q6nsKR",
        "colab_type": "code",
        "colab": {}
      },
      "source": [
        "out = fc1(out)"
      ],
      "execution_count": 0,
      "outputs": []
    },
    {
      "cell_type": "markdown",
      "metadata": {
        "id": "-rqd-rRt7MC7",
        "colab_type": "text"
      },
      "source": [
        "We can check the sizes of the tensors."
      ]
    },
    {
      "cell_type": "code",
      "metadata": {
        "id": "9YK3S4xfnvMC",
        "colab_type": "code",
        "outputId": "44ebabcd-0c00-4515-b635-f80d39ac345b",
        "colab": {
          "base_uri": "https://localhost:8080/",
          "height": 119
        }
      },
      "source": [
        "print(out.shape)\n",
        "print(out[:5])"
      ],
      "execution_count": 0,
      "outputs": [
        {
          "output_type": "stream",
          "text": [
            "torch.Size([32, 2])\n",
            "tensor([[ 0.0130,  0.0247],\n",
            "        [-0.0189, -0.0212],\n",
            "        [-0.0286, -0.0009],\n",
            "        [-0.0332,  0.0102],\n",
            "        [-0.0160,  0.0012]], grad_fn=<SliceBackward>)\n"
          ],
          "name": "stdout"
        }
      ]
    },
    {
      "cell_type": "markdown",
      "metadata": {
        "id": "qBOxkzVv7Og0",
        "colab_type": "text"
      },
      "source": [
        "And put everything together into an updated ```LSTMClassifier``` module."
      ]
    },
    {
      "cell_type": "code",
      "metadata": {
        "id": "CO1fb51onxGf",
        "colab_type": "code",
        "colab": {}
      },
      "source": [
        "class LSTMClassifier(nn.Module):\n",
        "  def __init__(self, vocab_sz, emb_dim, hidden_dim, out_dim, bidirectional=False, num_layers=1, dropout=0.5, emb_dropout=0.1, recur_dropout=0.3):\n",
        "    super(LSTMClassifier, self).__init__()\n",
        "    self.embeddings = nn.Embedding(vocab_sz, emb_dim)\n",
        "    self.rnn = nn.LSTM(emb_dim, hidden_dim, bidirectional=bidirectional, num_layers=num_layers, dropout=recur_dropout)\n",
        "    self.fc1 = nn.Linear(hidden_dim * 2 if bidirectional else hidden_dim, out_dim)\n",
        "    self.dropout = nn.Dropout(dropout)\n",
        "    self.emb_dropout = nn.Dropout(emb_dropout)\n",
        "    \n",
        "  def init_hidden(self, bs):\n",
        "    direction = 2 if self.rnn.bidirectional else 1\n",
        "    num_layers = self.rnn.num_layers\n",
        "    h, c = torch.zeros(direction * num_layers, bs, self.rnn.hidden_size), torch.zeros(direction * num_layers, bs, self.rnn.hidden_size)\n",
        "    \n",
        "    if next(model.parameters()).is_cuda:\n",
        "      h = h.to(device)\n",
        "      c = c.to(device)\n",
        "    return h, c\n",
        "    \n",
        "  def forward(self, x):\n",
        "    bs, msl = x.shape\n",
        "    h, c = self.init_hidden(bs)\n",
        "    \n",
        "    out = self.embeddings(x).permute(1, 0, 2)\n",
        "    out = self.emb_dropout(out)\n",
        "    out, (h, c) = self.rnn(out, (h, c))\n",
        "    \n",
        "    if self.rnn.bidirectional:\n",
        "      out = torch.cat( (h[-1, :, :], h[-2, :, :]) , dim=1)\n",
        "    else:\n",
        "      out = h[-1, :, :]\n",
        "      \n",
        "    out = self.dropout(out)\n",
        "    out = self.fc1(out)\n",
        "    \n",
        "    return out"
      ],
      "execution_count": 0,
      "outputs": []
    },
    {
      "cell_type": "markdown",
      "metadata": {
        "id": "13jCg4wh7ZlR",
        "colab_type": "text"
      },
      "source": [
        "Let's instantiate our model and optimizer."
      ]
    },
    {
      "cell_type": "code",
      "metadata": {
        "id": "S9FPRjYfp-Ow",
        "colab_type": "code",
        "colab": {}
      },
      "source": [
        "model = LSTMClassifier(vocab_sz=len(vocab_set), emb_dim=100, hidden_dim=128, out_dim=2, dropout=0.5, bidirectional=True, num_layers=2).to(device)\n",
        "criterion = nn.CrossEntropyLoss()\n",
        "optimizer = optim.Adam(model.parameters(), lr=1e-4)"
      ],
      "execution_count": 0,
      "outputs": []
    },
    {
      "cell_type": "markdown",
      "metadata": {
        "id": "vL0lMK_B7cTY",
        "colab_type": "text"
      },
      "source": [
        "But before we train it, let's use pretrained embeddings instead of training our own.\n",
        "\n",
        "Pretrained embeddings have been standard benchmarks since they provide the network with richer feature representations. For detailed information on how these embeddings are trained, please see Mikolov et al. (2013), Pennington et al. (2014), and Joulin et al. (2017).\n",
        "\n",
        "For this example, we'll use the 100-dimension GloVe (Pennington et al., 2014) pretrained embeddings from Stanford NLP's repository."
      ]
    },
    {
      "cell_type": "code",
      "metadata": {
        "id": "-Wr3KkLPzljw",
        "colab_type": "code",
        "outputId": "0362146c-c8d5-4c06-a55f-fe82a2d2c1c3",
        "colab": {
          "base_uri": "https://localhost:8080/",
          "height": 34
        }
      },
      "source": [
        "with open('glove.6B.100d.txt', 'r') as f:\n",
        "  lines = [l.strip() for l in f]\n",
        "  \n",
        "# Produce a vocabulary list and a lookup table\n",
        "emb_vocab = []\n",
        "word2emb = {}\n",
        "for l in tqdm(lines):\n",
        "  l = l.split()\n",
        "  emb_vocab.append(l[0])\n",
        "  word2emb[l[0]] = [float(f) for f in l[1:]]"
      ],
      "execution_count": 0,
      "outputs": [
        {
          "output_type": "stream",
          "text": [
            "100%|██████████| 400000/400000 [00:15<00:00, 25123.16it/s]\n"
          ],
          "name": "stderr"
        }
      ]
    },
    {
      "cell_type": "markdown",
      "metadata": {
        "id": "cznfzSrI8Rcf",
        "colab_type": "text"
      },
      "source": [
        "We can check the first item in the embedding vocabulary."
      ]
    },
    {
      "cell_type": "code",
      "metadata": {
        "id": "MxmWigsZznBK",
        "colab_type": "code",
        "outputId": "214df2ae-ab48-485f-cc09-631d5047218c",
        "colab": {
          "base_uri": "https://localhost:8080/",
          "height": 34
        }
      },
      "source": [
        "emb_vocab[0], word2emb[emb_vocab[0]][:5]"
      ],
      "execution_count": 0,
      "outputs": [
        {
          "output_type": "execute_result",
          "data": {
            "text/plain": [
              "('the', [-0.038194, -0.24487, 0.72812, -0.39961, 0.083172])"
            ]
          },
          "metadata": {
            "tags": []
          },
          "execution_count": 63
        }
      ]
    },
    {
      "cell_type": "markdown",
      "metadata": {
        "id": "5y333njd8VDF",
        "colab_type": "text"
      },
      "source": [
        "For every word in our own vocabulary, if a corresponding entry appears in the pretrained embeddings, we take those embeddings, otherwise we take a zero-tensor instead."
      ]
    },
    {
      "cell_type": "code",
      "metadata": {
        "id": "6PW1sQgCzupr",
        "colab_type": "code",
        "outputId": "59f6b6e3-03f9-49f8-9416-a2641eb7317b",
        "colab": {
          "base_uri": "https://localhost:8080/",
          "height": 34
        }
      },
      "source": [
        "# Produce a set for O(1) lookups\n",
        "emb_vocab_set = set(emb_vocab)\n",
        "emb_dim = 100\n",
        "\n",
        "# Copy matching embeddings IN ORDER\n",
        "copied_weights = []\n",
        "for word in tqdm(word2idx.keys()):\n",
        "  if word in emb_vocab_set:\n",
        "    copied_weights.append(word2emb[word])\n",
        "  else:\n",
        "    copied_weights.append([0 for _ in range(emb_dim)])\n",
        "    \n",
        "# Transform the copied embedding weights into a tensor\n",
        "copied_weights = torch.stack([torch.FloatTensor(weight) for weight in copied_weights])"
      ],
      "execution_count": 0,
      "outputs": [
        {
          "output_type": "stream",
          "text": [
            "100%|██████████| 63885/63885 [00:00<00:00, 187453.99it/s]\n"
          ],
          "name": "stderr"
        }
      ]
    },
    {
      "cell_type": "markdown",
      "metadata": {
        "id": "Vpg1H-Dw8pjX",
        "colab_type": "text"
      },
      "source": [
        "We can check the shape of our copied weights and confirm they're of shape $[vocab\\_sz, emb\\_dim]$."
      ]
    },
    {
      "cell_type": "code",
      "metadata": {
        "id": "9rzXuaH5zxdC",
        "colab_type": "code",
        "outputId": "e4916823-e4e1-4182-a054-c01664094ee7",
        "colab": {
          "base_uri": "https://localhost:8080/",
          "height": 34
        }
      },
      "source": [
        "copied_weights.shape"
      ],
      "execution_count": 0,
      "outputs": [
        {
          "output_type": "execute_result",
          "data": {
            "text/plain": [
              "torch.Size([63885, 100])"
            ]
          },
          "metadata": {
            "tags": []
          },
          "execution_count": 65
        }
      ]
    },
    {
      "cell_type": "markdown",
      "metadata": {
        "id": "US_l_Lcr80t5",
        "colab_type": "text"
      },
      "source": [
        "We will then copy these weights into the embedding layer of our model, then **freeze** them so the network doesn't update them. They act as feature extractors this way."
      ]
    },
    {
      "cell_type": "code",
      "metadata": {
        "id": "2L7icu5IzzAg",
        "colab_type": "code",
        "colab": {}
      },
      "source": [
        "model.embeddings.weight.data.copy_(copied_weights);\n",
        "model.embeddings.weight.requires_grad = False"
      ],
      "execution_count": 0,
      "outputs": []
    },
    {
      "cell_type": "markdown",
      "metadata": {
        "id": "ey2nmEfo88al",
        "colab_type": "text"
      },
      "source": [
        "We then train with the same settings for 10 epochs."
      ]
    },
    {
      "cell_type": "code",
      "metadata": {
        "id": "GtKwzVlQqCwV",
        "colab_type": "code",
        "outputId": "e45d00e0-3567-4b60-e33d-a016521f8d4d",
        "colab": {
          "base_uri": "https://localhost:8080/",
          "height": 1000
        }
      },
      "source": [
        "epochs = 50\n",
        "clip = 0.25\n",
        "train_losses = []\n",
        "val_losses = []\n",
        "\n",
        "for e in range(1, epochs + 1):\n",
        "  train_loss = 0\n",
        "  train_acc = 0\n",
        "\n",
        "  model.train()\n",
        "  for batch in tqdm(train_loader):\n",
        "    x, y = batch\n",
        "    x = x.to(device)\n",
        "    y = y.to(device)\n",
        "\n",
        "    out = model(x)\n",
        "    loss = criterion(out, y)\n",
        "\n",
        "    optimizer.zero_grad()\n",
        "    loss.backward()\n",
        "    nn.utils.clip_grad_norm_(model.parameters(), clip)\n",
        "    optimizer.step()\n",
        "\n",
        "    train_loss += loss.item()\n",
        "    train_acc += accuracy(out, y)\n",
        "\n",
        "  train_loss /= len(train_loader)\n",
        "  train_acc /= len(train_loader)\n",
        "  \n",
        "  train_losses.append(train_loss)\n",
        "\n",
        "  val_loss = 0\n",
        "  val_acc = 0\n",
        "\n",
        "  model.eval()\n",
        "  for batch in tqdm(val_loader):\n",
        "    with torch.no_grad():\n",
        "      x, y = batch\n",
        "      x = x.to(device)\n",
        "      y = y.to(device)\n",
        "\n",
        "      out = model(x)\n",
        "      loss = criterion(out, y)\n",
        "\n",
        "      val_loss += loss.item()\n",
        "      val_acc += accuracy(out, y)\n",
        "\n",
        "  val_loss /= len(val_loader)\n",
        "  val_acc /= len(val_loader)\n",
        "  \n",
        "  val_losses.append(val_loss)\n",
        "\n",
        "  print(\"\\nEpoch {:3} | Train Loss: {:.4f} | Train Acc: {:.4f} | Val Loss: {:.4f} | Val Acc: {:.4f}\".format(e, train_loss, train_acc, val_loss, val_acc))"
      ],
      "execution_count": 0,
      "outputs": [
        {
          "output_type": "stream",
          "text": [
            "100%|██████████| 219/219 [00:24<00:00,  9.34it/s]\n",
            "100%|██████████| 94/94 [00:01<00:00, 50.79it/s]\n",
            "  1%|          | 2/219 [00:00<00:19, 11.39it/s]"
          ],
          "name": "stderr"
        },
        {
          "output_type": "stream",
          "text": [
            "\n",
            "Epoch   1 | Train Loss: 0.6914 | Train Acc: 0.5221 | Val Loss: 0.6853 | Val Acc: 0.6021\n"
          ],
          "name": "stdout"
        },
        {
          "output_type": "stream",
          "text": [
            "100%|██████████| 219/219 [00:18<00:00, 11.63it/s]\n",
            "100%|██████████| 94/94 [00:01<00:00, 53.44it/s]\n",
            "  1%|          | 2/219 [00:00<00:18, 11.58it/s]"
          ],
          "name": "stderr"
        },
        {
          "output_type": "stream",
          "text": [
            "\n",
            "Epoch   2 | Train Loss: 0.6701 | Train Acc: 0.5973 | Val Loss: 0.6186 | Val Acc: 0.6682\n"
          ],
          "name": "stdout"
        },
        {
          "output_type": "stream",
          "text": [
            "100%|██████████| 219/219 [00:19<00:00, 11.52it/s]\n",
            "100%|██████████| 94/94 [00:01<00:00, 52.11it/s]\n",
            "  1%|          | 2/219 [00:00<00:18, 11.89it/s]"
          ],
          "name": "stderr"
        },
        {
          "output_type": "stream",
          "text": [
            "\n",
            "Epoch   3 | Train Loss: 0.6263 | Train Acc: 0.6602 | Val Loss: 0.6694 | Val Acc: 0.6411\n"
          ],
          "name": "stdout"
        },
        {
          "output_type": "stream",
          "text": [
            "100%|██████████| 219/219 [00:18<00:00, 11.58it/s]\n",
            "100%|██████████| 94/94 [00:01<00:00, 52.58it/s]\n",
            "  1%|          | 2/219 [00:00<00:18, 11.74it/s]"
          ],
          "name": "stderr"
        },
        {
          "output_type": "stream",
          "text": [
            "\n",
            "Epoch   4 | Train Loss: 0.6094 | Train Acc: 0.6755 | Val Loss: 0.5722 | Val Acc: 0.7113\n"
          ],
          "name": "stdout"
        },
        {
          "output_type": "stream",
          "text": [
            "100%|██████████| 219/219 [00:18<00:00, 11.57it/s]\n",
            "100%|██████████| 94/94 [00:01<00:00, 51.94it/s]\n",
            "  1%|          | 2/219 [00:00<00:19, 11.24it/s]"
          ],
          "name": "stderr"
        },
        {
          "output_type": "stream",
          "text": [
            "\n",
            "Epoch   5 | Train Loss: 0.5923 | Train Acc: 0.6958 | Val Loss: 0.5890 | Val Acc: 0.6802\n"
          ],
          "name": "stdout"
        },
        {
          "output_type": "stream",
          "text": [
            "100%|██████████| 219/219 [00:18<00:00, 11.57it/s]\n",
            "100%|██████████| 94/94 [00:01<00:00, 53.98it/s]\n",
            "  1%|          | 2/219 [00:00<00:18, 11.77it/s]"
          ],
          "name": "stderr"
        },
        {
          "output_type": "stream",
          "text": [
            "\n",
            "Epoch   6 | Train Loss: 0.5797 | Train Acc: 0.7003 | Val Loss: 0.5493 | Val Acc: 0.7281\n"
          ],
          "name": "stdout"
        },
        {
          "output_type": "stream",
          "text": [
            "100%|██████████| 219/219 [00:18<00:00, 11.56it/s]\n",
            "100%|██████████| 94/94 [00:01<00:00, 50.77it/s]\n",
            "  1%|          | 2/219 [00:00<00:19, 11.41it/s]"
          ],
          "name": "stderr"
        },
        {
          "output_type": "stream",
          "text": [
            "\n",
            "Epoch   7 | Train Loss: 0.5718 | Train Acc: 0.7090 | Val Loss: 0.5550 | Val Acc: 0.7366\n"
          ],
          "name": "stdout"
        },
        {
          "output_type": "stream",
          "text": [
            "100%|██████████| 219/219 [00:18<00:00, 11.60it/s]\n",
            "100%|██████████| 94/94 [00:01<00:00, 53.63it/s]\n",
            "  1%|          | 2/219 [00:00<00:18, 11.66it/s]"
          ],
          "name": "stderr"
        },
        {
          "output_type": "stream",
          "text": [
            "\n",
            "Epoch   8 | Train Loss: 0.5546 | Train Acc: 0.7202 | Val Loss: 0.6173 | Val Acc: 0.6724\n"
          ],
          "name": "stdout"
        },
        {
          "output_type": "stream",
          "text": [
            "100%|██████████| 219/219 [00:19<00:00, 11.51it/s]\n",
            "100%|██████████| 94/94 [00:01<00:00, 52.09it/s]\n",
            "  1%|          | 2/219 [00:00<00:19, 11.39it/s]"
          ],
          "name": "stderr"
        },
        {
          "output_type": "stream",
          "text": [
            "\n",
            "Epoch   9 | Train Loss: 0.5475 | Train Acc: 0.7323 | Val Loss: 0.5600 | Val Acc: 0.7092\n"
          ],
          "name": "stdout"
        },
        {
          "output_type": "stream",
          "text": [
            "100%|██████████| 219/219 [00:19<00:00, 11.51it/s]\n",
            "100%|██████████| 94/94 [00:01<00:00, 51.57it/s]\n",
            "  1%|          | 2/219 [00:00<00:18, 11.63it/s]"
          ],
          "name": "stderr"
        },
        {
          "output_type": "stream",
          "text": [
            "\n",
            "Epoch  10 | Train Loss: 0.5363 | Train Acc: 0.7412 | Val Loss: 0.5462 | Val Acc: 0.7312\n"
          ],
          "name": "stdout"
        },
        {
          "output_type": "stream",
          "text": [
            "100%|██████████| 219/219 [00:18<00:00, 11.57it/s]\n",
            "100%|██████████| 94/94 [00:01<00:00, 52.42it/s]\n",
            "  1%|          | 2/219 [00:00<00:18, 11.62it/s]"
          ],
          "name": "stderr"
        },
        {
          "output_type": "stream",
          "text": [
            "\n",
            "Epoch  11 | Train Loss: 0.5341 | Train Acc: 0.7414 | Val Loss: 0.5371 | Val Acc: 0.7325\n"
          ],
          "name": "stdout"
        },
        {
          "output_type": "stream",
          "text": [
            "100%|██████████| 219/219 [00:19<00:00, 11.43it/s]\n",
            "100%|██████████| 94/94 [00:01<00:00, 52.82it/s]\n",
            "  1%|          | 2/219 [00:00<00:18, 11.51it/s]"
          ],
          "name": "stderr"
        },
        {
          "output_type": "stream",
          "text": [
            "\n",
            "Epoch  12 | Train Loss: 0.5259 | Train Acc: 0.7455 | Val Loss: 0.6231 | Val Acc: 0.7040\n"
          ],
          "name": "stdout"
        },
        {
          "output_type": "stream",
          "text": [
            "100%|██████████| 219/219 [00:19<00:00, 11.52it/s]\n",
            "100%|██████████| 94/94 [00:01<00:00, 52.87it/s]\n",
            "  1%|          | 2/219 [00:00<00:18, 11.57it/s]"
          ],
          "name": "stderr"
        },
        {
          "output_type": "stream",
          "text": [
            "\n",
            "Epoch  13 | Train Loss: 0.5289 | Train Acc: 0.7439 | Val Loss: 0.5232 | Val Acc: 0.7458\n"
          ],
          "name": "stdout"
        },
        {
          "output_type": "stream",
          "text": [
            "100%|██████████| 219/219 [00:19<00:00, 11.48it/s]\n",
            "100%|██████████| 94/94 [00:01<00:00, 52.46it/s]\n",
            "  1%|          | 2/219 [00:00<00:18, 11.58it/s]"
          ],
          "name": "stderr"
        },
        {
          "output_type": "stream",
          "text": [
            "\n",
            "Epoch  14 | Train Loss: 0.5157 | Train Acc: 0.7517 | Val Loss: 0.5311 | Val Acc: 0.7439\n"
          ],
          "name": "stdout"
        },
        {
          "output_type": "stream",
          "text": [
            "100%|██████████| 219/219 [00:19<00:00, 11.42it/s]\n",
            "100%|██████████| 94/94 [00:01<00:00, 51.57it/s]\n",
            "  1%|          | 2/219 [00:00<00:18, 11.60it/s]"
          ],
          "name": "stderr"
        },
        {
          "output_type": "stream",
          "text": [
            "\n",
            "Epoch  15 | Train Loss: 0.5075 | Train Acc: 0.7561 | Val Loss: 0.5000 | Val Acc: 0.7696\n"
          ],
          "name": "stdout"
        },
        {
          "output_type": "stream",
          "text": [
            "100%|██████████| 219/219 [00:19<00:00, 11.37it/s]\n",
            "100%|██████████| 94/94 [00:01<00:00, 53.49it/s]\n",
            "  1%|          | 2/219 [00:00<00:18, 11.55it/s]"
          ],
          "name": "stderr"
        },
        {
          "output_type": "stream",
          "text": [
            "\n",
            "Epoch  16 | Train Loss: 0.5153 | Train Acc: 0.7525 | Val Loss: 0.5260 | Val Acc: 0.7426\n"
          ],
          "name": "stdout"
        },
        {
          "output_type": "stream",
          "text": [
            "100%|██████████| 219/219 [00:19<00:00, 11.43it/s]\n",
            "100%|██████████| 94/94 [00:01<00:00, 52.67it/s]\n",
            "  1%|          | 2/219 [00:00<00:18, 11.68it/s]"
          ],
          "name": "stderr"
        },
        {
          "output_type": "stream",
          "text": [
            "\n",
            "Epoch  17 | Train Loss: 0.4958 | Train Acc: 0.7678 | Val Loss: 0.5769 | Val Acc: 0.6995\n"
          ],
          "name": "stdout"
        },
        {
          "output_type": "stream",
          "text": [
            "100%|██████████| 219/219 [00:18<00:00, 11.54it/s]\n",
            "100%|██████████| 94/94 [00:01<00:00, 53.26it/s]\n",
            "  1%|          | 2/219 [00:00<00:18, 11.57it/s]"
          ],
          "name": "stderr"
        },
        {
          "output_type": "stream",
          "text": [
            "\n",
            "Epoch  18 | Train Loss: 0.4970 | Train Acc: 0.7631 | Val Loss: 0.5037 | Val Acc: 0.7516\n"
          ],
          "name": "stdout"
        },
        {
          "output_type": "stream",
          "text": [
            "100%|██████████| 219/219 [00:19<00:00, 11.45it/s]\n",
            "100%|██████████| 94/94 [00:01<00:00, 54.35it/s]\n",
            "  1%|          | 2/219 [00:00<00:19, 11.32it/s]"
          ],
          "name": "stderr"
        },
        {
          "output_type": "stream",
          "text": [
            "\n",
            "Epoch  19 | Train Loss: 0.5023 | Train Acc: 0.7618 | Val Loss: 0.4904 | Val Acc: 0.7777\n"
          ],
          "name": "stdout"
        },
        {
          "output_type": "stream",
          "text": [
            "100%|██████████| 219/219 [00:19<00:00, 11.48it/s]\n",
            "100%|██████████| 94/94 [00:01<00:00, 52.09it/s]\n",
            "  1%|          | 2/219 [00:00<00:18, 11.53it/s]"
          ],
          "name": "stderr"
        },
        {
          "output_type": "stream",
          "text": [
            "\n",
            "Epoch  20 | Train Loss: 0.4869 | Train Acc: 0.7721 | Val Loss: 0.4753 | Val Acc: 0.7758\n"
          ],
          "name": "stdout"
        },
        {
          "output_type": "stream",
          "text": [
            "100%|██████████| 219/219 [00:19<00:00, 11.50it/s]\n",
            "100%|██████████| 94/94 [00:01<00:00, 52.33it/s]\n",
            "  1%|          | 2/219 [00:00<00:18, 11.51it/s]"
          ],
          "name": "stderr"
        },
        {
          "output_type": "stream",
          "text": [
            "\n",
            "Epoch  21 | Train Loss: 0.4837 | Train Acc: 0.7740 | Val Loss: 0.5756 | Val Acc: 0.7047\n"
          ],
          "name": "stdout"
        },
        {
          "output_type": "stream",
          "text": [
            "100%|██████████| 219/219 [00:19<00:00, 11.51it/s]\n",
            "100%|██████████| 94/94 [00:01<00:00, 53.08it/s]\n",
            "  1%|          | 2/219 [00:00<00:18, 11.50it/s]"
          ],
          "name": "stderr"
        },
        {
          "output_type": "stream",
          "text": [
            "\n",
            "Epoch  22 | Train Loss: 0.4770 | Train Acc: 0.7748 | Val Loss: 0.5053 | Val Acc: 0.7510\n"
          ],
          "name": "stdout"
        },
        {
          "output_type": "stream",
          "text": [
            "100%|██████████| 219/219 [00:19<00:00, 11.44it/s]\n",
            "100%|██████████| 94/94 [00:01<00:00, 52.28it/s]\n",
            "  1%|          | 2/219 [00:00<00:19, 11.31it/s]"
          ],
          "name": "stderr"
        },
        {
          "output_type": "stream",
          "text": [
            "\n",
            "Epoch  23 | Train Loss: 0.4740 | Train Acc: 0.7769 | Val Loss: 0.4680 | Val Acc: 0.7832\n"
          ],
          "name": "stdout"
        },
        {
          "output_type": "stream",
          "text": [
            "100%|██████████| 219/219 [00:18<00:00, 11.57it/s]\n",
            "100%|██████████| 94/94 [00:01<00:00, 52.70it/s]\n",
            "  1%|          | 2/219 [00:00<00:18, 11.94it/s]"
          ],
          "name": "stderr"
        },
        {
          "output_type": "stream",
          "text": [
            "\n",
            "Epoch  24 | Train Loss: 0.4659 | Train Acc: 0.7848 | Val Loss: 0.5044 | Val Acc: 0.7540\n"
          ],
          "name": "stdout"
        },
        {
          "output_type": "stream",
          "text": [
            "100%|██████████| 219/219 [00:19<00:00, 11.48it/s]\n",
            "100%|██████████| 94/94 [00:01<00:00, 53.76it/s]\n",
            "  1%|          | 2/219 [00:00<00:18, 11.53it/s]"
          ],
          "name": "stderr"
        },
        {
          "output_type": "stream",
          "text": [
            "\n",
            "Epoch  25 | Train Loss: 0.4614 | Train Acc: 0.7867 | Val Loss: 0.5288 | Val Acc: 0.7634\n"
          ],
          "name": "stdout"
        },
        {
          "output_type": "stream",
          "text": [
            "100%|██████████| 219/219 [00:19<00:00, 11.50it/s]\n",
            "100%|██████████| 94/94 [00:01<00:00, 53.05it/s]\n",
            "  1%|          | 2/219 [00:00<00:18, 11.61it/s]"
          ],
          "name": "stderr"
        },
        {
          "output_type": "stream",
          "text": [
            "\n",
            "Epoch  26 | Train Loss: 0.4502 | Train Acc: 0.7911 | Val Loss: 0.4602 | Val Acc: 0.7879\n"
          ],
          "name": "stdout"
        },
        {
          "output_type": "stream",
          "text": [
            "100%|██████████| 219/219 [00:19<00:00, 11.49it/s]\n",
            "100%|██████████| 94/94 [00:01<00:00, 52.76it/s]\n",
            "  1%|          | 2/219 [00:00<00:19, 11.41it/s]"
          ],
          "name": "stderr"
        },
        {
          "output_type": "stream",
          "text": [
            "\n",
            "Epoch  27 | Train Loss: 0.4480 | Train Acc: 0.7907 | Val Loss: 0.5175 | Val Acc: 0.7500\n"
          ],
          "name": "stdout"
        },
        {
          "output_type": "stream",
          "text": [
            "100%|██████████| 219/219 [00:19<00:00, 11.50it/s]\n",
            "100%|██████████| 94/94 [00:01<00:00, 53.01it/s]\n",
            "  1%|          | 2/219 [00:00<00:18, 11.49it/s]"
          ],
          "name": "stderr"
        },
        {
          "output_type": "stream",
          "text": [
            "\n",
            "Epoch  28 | Train Loss: 0.4456 | Train Acc: 0.7899 | Val Loss: 0.4618 | Val Acc: 0.7969\n"
          ],
          "name": "stdout"
        },
        {
          "output_type": "stream",
          "text": [
            "100%|██████████| 219/219 [00:18<00:00, 11.54it/s]\n",
            "100%|██████████| 94/94 [00:01<00:00, 53.90it/s]\n",
            "  1%|          | 2/219 [00:00<00:17, 12.16it/s]"
          ],
          "name": "stderr"
        },
        {
          "output_type": "stream",
          "text": [
            "\n",
            "Epoch  29 | Train Loss: 0.4530 | Train Acc: 0.7927 | Val Loss: 0.4904 | Val Acc: 0.7789\n"
          ],
          "name": "stdout"
        },
        {
          "output_type": "stream",
          "text": [
            "100%|██████████| 219/219 [00:19<00:00, 11.46it/s]\n",
            "100%|██████████| 94/94 [00:01<00:00, 53.15it/s]\n",
            "  1%|          | 2/219 [00:00<00:18, 11.48it/s]"
          ],
          "name": "stderr"
        },
        {
          "output_type": "stream",
          "text": [
            "\n",
            "Epoch  30 | Train Loss: 0.4419 | Train Acc: 0.7942 | Val Loss: 0.4429 | Val Acc: 0.7932\n"
          ],
          "name": "stdout"
        },
        {
          "output_type": "stream",
          "text": [
            "100%|██████████| 219/219 [00:18<00:00, 11.58it/s]\n",
            "100%|██████████| 94/94 [00:01<00:00, 51.31it/s]\n",
            "  1%|          | 2/219 [00:00<00:18, 11.50it/s]"
          ],
          "name": "stderr"
        },
        {
          "output_type": "stream",
          "text": [
            "\n",
            "Epoch  31 | Train Loss: 0.4417 | Train Acc: 0.7966 | Val Loss: 0.4392 | Val Acc: 0.7969\n"
          ],
          "name": "stdout"
        },
        {
          "output_type": "stream",
          "text": [
            "100%|██████████| 219/219 [00:19<00:00, 11.48it/s]\n",
            "100%|██████████| 94/94 [00:01<00:00, 53.24it/s]\n",
            "  1%|          | 2/219 [00:00<00:18, 11.70it/s]"
          ],
          "name": "stderr"
        },
        {
          "output_type": "stream",
          "text": [
            "\n",
            "Epoch  32 | Train Loss: 0.4484 | Train Acc: 0.7944 | Val Loss: 0.4816 | Val Acc: 0.7867\n"
          ],
          "name": "stdout"
        },
        {
          "output_type": "stream",
          "text": [
            "100%|██████████| 219/219 [00:19<00:00, 11.46it/s]\n",
            "100%|██████████| 94/94 [00:01<00:00, 53.04it/s]\n",
            "  1%|          | 2/219 [00:00<00:18, 11.52it/s]"
          ],
          "name": "stderr"
        },
        {
          "output_type": "stream",
          "text": [
            "\n",
            "Epoch  33 | Train Loss: 0.4367 | Train Acc: 0.7972 | Val Loss: 0.4677 | Val Acc: 0.7883\n"
          ],
          "name": "stdout"
        },
        {
          "output_type": "stream",
          "text": [
            "100%|██████████| 219/219 [00:19<00:00, 11.47it/s]\n",
            "100%|██████████| 94/94 [00:01<00:00, 52.34it/s]\n",
            "  1%|          | 2/219 [00:00<00:18, 11.65it/s]"
          ],
          "name": "stderr"
        },
        {
          "output_type": "stream",
          "text": [
            "\n",
            "Epoch  34 | Train Loss: 0.4320 | Train Acc: 0.8029 | Val Loss: 0.4687 | Val Acc: 0.7789\n"
          ],
          "name": "stdout"
        },
        {
          "output_type": "stream",
          "text": [
            "100%|██████████| 219/219 [00:19<00:00, 11.45it/s]\n",
            "100%|██████████| 94/94 [00:01<00:00, 52.65it/s]\n",
            "  1%|          | 2/219 [00:00<00:18, 11.49it/s]"
          ],
          "name": "stderr"
        },
        {
          "output_type": "stream",
          "text": [
            "\n",
            "Epoch  35 | Train Loss: 0.4307 | Train Acc: 0.8087 | Val Loss: 0.5009 | Val Acc: 0.7821\n"
          ],
          "name": "stdout"
        },
        {
          "output_type": "stream",
          "text": [
            "100%|██████████| 219/219 [00:18<00:00, 11.54it/s]\n",
            "100%|██████████| 94/94 [00:01<00:00, 51.73it/s]\n",
            "  1%|          | 2/219 [00:00<00:18, 11.47it/s]"
          ],
          "name": "stderr"
        },
        {
          "output_type": "stream",
          "text": [
            "\n",
            "Epoch  36 | Train Loss: 0.4343 | Train Acc: 0.8033 | Val Loss: 0.5059 | Val Acc: 0.7788\n"
          ],
          "name": "stdout"
        },
        {
          "output_type": "stream",
          "text": [
            "100%|██████████| 219/219 [00:19<00:00, 11.40it/s]\n",
            "100%|██████████| 94/94 [00:01<00:00, 52.43it/s]\n",
            "  1%|          | 2/219 [00:00<00:18, 11.55it/s]"
          ],
          "name": "stderr"
        },
        {
          "output_type": "stream",
          "text": [
            "\n",
            "Epoch  37 | Train Loss: 0.4194 | Train Acc: 0.8085 | Val Loss: 0.4534 | Val Acc: 0.8013\n"
          ],
          "name": "stdout"
        },
        {
          "output_type": "stream",
          "text": [
            "100%|██████████| 219/219 [00:18<00:00, 11.55it/s]\n",
            "100%|██████████| 94/94 [00:01<00:00, 52.26it/s]\n",
            "  1%|          | 2/219 [00:00<00:18, 11.88it/s]"
          ],
          "name": "stderr"
        },
        {
          "output_type": "stream",
          "text": [
            "\n",
            "Epoch  38 | Train Loss: 0.4148 | Train Acc: 0.8125 | Val Loss: 0.5240 | Val Acc: 0.7656\n"
          ],
          "name": "stdout"
        },
        {
          "output_type": "stream",
          "text": [
            "100%|██████████| 219/219 [00:19<00:00, 11.48it/s]\n",
            "100%|██████████| 94/94 [00:01<00:00, 51.89it/s]\n",
            "  1%|          | 2/219 [00:00<00:17, 12.30it/s]"
          ],
          "name": "stderr"
        },
        {
          "output_type": "stream",
          "text": [
            "\n",
            "Epoch  39 | Train Loss: 0.4185 | Train Acc: 0.8121 | Val Loss: 0.4962 | Val Acc: 0.7752\n"
          ],
          "name": "stdout"
        },
        {
          "output_type": "stream",
          "text": [
            "100%|██████████| 219/219 [00:18<00:00, 11.53it/s]\n",
            "100%|██████████| 94/94 [00:01<00:00, 52.68it/s]\n",
            "  1%|          | 2/219 [00:00<00:18, 11.66it/s]"
          ],
          "name": "stderr"
        },
        {
          "output_type": "stream",
          "text": [
            "\n",
            "Epoch  40 | Train Loss: 0.4225 | Train Acc: 0.8115 | Val Loss: 0.5649 | Val Acc: 0.7501\n"
          ],
          "name": "stdout"
        },
        {
          "output_type": "stream",
          "text": [
            "100%|██████████| 219/219 [00:18<00:00, 11.53it/s]\n",
            "100%|██████████| 94/94 [00:01<00:00, 53.12it/s]\n",
            "  1%|          | 2/219 [00:00<00:18, 11.95it/s]"
          ],
          "name": "stderr"
        },
        {
          "output_type": "stream",
          "text": [
            "\n",
            "Epoch  41 | Train Loss: 0.4125 | Train Acc: 0.8150 | Val Loss: 0.4820 | Val Acc: 0.7963\n"
          ],
          "name": "stdout"
        },
        {
          "output_type": "stream",
          "text": [
            "100%|██████████| 219/219 [00:18<00:00, 11.63it/s]\n",
            "100%|██████████| 94/94 [00:01<00:00, 52.24it/s]\n",
            "  1%|          | 2/219 [00:00<00:18, 11.59it/s]"
          ],
          "name": "stderr"
        },
        {
          "output_type": "stream",
          "text": [
            "\n",
            "Epoch  42 | Train Loss: 0.4024 | Train Acc: 0.8181 | Val Loss: 0.5029 | Val Acc: 0.7815\n"
          ],
          "name": "stdout"
        },
        {
          "output_type": "stream",
          "text": [
            "100%|██████████| 219/219 [00:19<00:00, 11.37it/s]\n",
            "100%|██████████| 94/94 [00:01<00:00, 52.32it/s]\n",
            "  1%|          | 2/219 [00:00<00:18, 11.82it/s]"
          ],
          "name": "stderr"
        },
        {
          "output_type": "stream",
          "text": [
            "\n",
            "Epoch  43 | Train Loss: 0.3996 | Train Acc: 0.8237 | Val Loss: 0.4934 | Val Acc: 0.7900\n"
          ],
          "name": "stdout"
        },
        {
          "output_type": "stream",
          "text": [
            "100%|██████████| 219/219 [00:19<00:00, 11.50it/s]\n",
            "100%|██████████| 94/94 [00:01<00:00, 52.71it/s]\n",
            "  1%|          | 2/219 [00:00<00:18, 11.77it/s]"
          ],
          "name": "stderr"
        },
        {
          "output_type": "stream",
          "text": [
            "\n",
            "Epoch  44 | Train Loss: 0.3953 | Train Acc: 0.8279 | Val Loss: 0.5735 | Val Acc: 0.7333\n"
          ],
          "name": "stdout"
        },
        {
          "output_type": "stream",
          "text": [
            "100%|██████████| 219/219 [00:18<00:00, 11.57it/s]\n",
            "100%|██████████| 94/94 [00:01<00:00, 52.45it/s]\n",
            "  1%|          | 2/219 [00:00<00:18, 11.82it/s]"
          ],
          "name": "stderr"
        },
        {
          "output_type": "stream",
          "text": [
            "\n",
            "Epoch  45 | Train Loss: 0.4008 | Train Acc: 0.8204 | Val Loss: 0.5433 | Val Acc: 0.7516\n"
          ],
          "name": "stdout"
        },
        {
          "output_type": "stream",
          "text": [
            "100%|██████████| 219/219 [00:19<00:00, 11.51it/s]\n",
            "100%|██████████| 94/94 [00:01<00:00, 52.96it/s]\n",
            "  1%|          | 2/219 [00:00<00:18, 11.74it/s]"
          ],
          "name": "stderr"
        },
        {
          "output_type": "stream",
          "text": [
            "\n",
            "Epoch  46 | Train Loss: 0.3950 | Train Acc: 0.8255 | Val Loss: 0.4648 | Val Acc: 0.7922\n"
          ],
          "name": "stdout"
        },
        {
          "output_type": "stream",
          "text": [
            "100%|██████████| 219/219 [00:18<00:00, 11.60it/s]\n",
            "100%|██████████| 94/94 [00:01<00:00, 52.25it/s]\n",
            "  1%|          | 2/219 [00:00<00:18, 11.79it/s]"
          ],
          "name": "stderr"
        },
        {
          "output_type": "stream",
          "text": [
            "\n",
            "Epoch  47 | Train Loss: 0.3932 | Train Acc: 0.8309 | Val Loss: 0.4742 | Val Acc: 0.7927\n"
          ],
          "name": "stdout"
        },
        {
          "output_type": "stream",
          "text": [
            "100%|██████████| 219/219 [00:19<00:00, 11.50it/s]\n",
            "100%|██████████| 94/94 [00:01<00:00, 53.22it/s]\n",
            "  1%|          | 2/219 [00:00<00:18, 11.89it/s]"
          ],
          "name": "stderr"
        },
        {
          "output_type": "stream",
          "text": [
            "\n",
            "Epoch  48 | Train Loss: 0.3784 | Train Acc: 0.8332 | Val Loss: 0.4367 | Val Acc: 0.8029\n"
          ],
          "name": "stdout"
        },
        {
          "output_type": "stream",
          "text": [
            "100%|██████████| 219/219 [00:18<00:00, 11.62it/s]\n",
            "100%|██████████| 94/94 [00:01<00:00, 52.89it/s]\n",
            "  1%|          | 2/219 [00:00<00:18, 11.81it/s]"
          ],
          "name": "stderr"
        },
        {
          "output_type": "stream",
          "text": [
            "\n",
            "Epoch  49 | Train Loss: 0.3752 | Train Acc: 0.8355 | Val Loss: 0.4906 | Val Acc: 0.7876\n"
          ],
          "name": "stdout"
        },
        {
          "output_type": "stream",
          "text": [
            "100%|██████████| 219/219 [00:18<00:00, 11.59it/s]\n",
            "100%|██████████| 94/94 [00:01<00:00, 52.23it/s]"
          ],
          "name": "stderr"
        },
        {
          "output_type": "stream",
          "text": [
            "\n",
            "Epoch  50 | Train Loss: 0.3908 | Train Acc: 0.8307 | Val Loss: 0.5415 | Val Acc: 0.7537\n"
          ],
          "name": "stdout"
        },
        {
          "output_type": "stream",
          "text": [
            "\n"
          ],
          "name": "stderr"
        }
      ]
    },
    {
      "cell_type": "markdown",
      "metadata": {
        "id": "T0rt6sIj8-up",
        "colab_type": "text"
      },
      "source": [
        "And plot the losses."
      ]
    },
    {
      "cell_type": "code",
      "metadata": {
        "id": "sL1N3rEoqGmp",
        "colab_type": "code",
        "outputId": "cb0167c4-3aff-435d-ba34-0842fe3c3c78",
        "colab": {
          "base_uri": "https://localhost:8080/",
          "height": 286
        }
      },
      "source": [
        "pd.DataFrame(data={'train_loss': train_losses, 'val_loss': val_losses}).plot.line()"
      ],
      "execution_count": 0,
      "outputs": [
        {
          "output_type": "execute_result",
          "data": {
            "text/plain": [
              "<matplotlib.axes._subplots.AxesSubplot at 0x7faeed730668>"
            ]
          },
          "metadata": {
            "tags": []
          },
          "execution_count": 68
        },
        {
          "output_type": "display_data",
          "data": {
            "image/png": "[encoded data removed]",
            "text/plain": [
              "<Figure size 432x288 with 1 Axes>"
            ]
          },
          "metadata": {
            "tags": []
          }
        }
      ]
    },
    {
      "cell_type": "markdown",
      "metadata": {
        "id": "VmQ4Aa-U9K1m",
        "colab_type": "text"
      },
      "source": [
        "# Predictions"
      ]
    },
    {
      "cell_type": "markdown",
      "metadata": {
        "id": "8GazUE428_6i",
        "colab_type": "text"
      },
      "source": [
        "We can perform predictions on the model.\n",
        "\n",
        "Let's put the model back into the CPU and put it in evaluation mode to turn off dropout."
      ]
    },
    {
      "cell_type": "code",
      "metadata": {
        "id": "cBOte3Es3GvN",
        "colab_type": "code",
        "outputId": "68468569-71fc-418c-a0c7-c82821586ba9",
        "colab": {
          "base_uri": "https://localhost:8080/",
          "height": 136
        }
      },
      "source": [
        "model.cpu()\n",
        "model.eval()"
      ],
      "execution_count": 0,
      "outputs": [
        {
          "output_type": "execute_result",
          "data": {
            "text/plain": [
              "LSTMClassifier(\n",
              "  (embeddings): Embedding(63885, 100)\n",
              "  (rnn): LSTM(100, 128, num_layers=2, dropout=0.3, bidirectional=True)\n",
              "  (fc1): Linear(in_features=256, out_features=2, bias=True)\n",
              "  (dropout): Dropout(p=0.5)\n",
              "  (emb_dropout): Dropout(p=0.1)\n",
              ")"
            ]
          },
          "metadata": {
            "tags": []
          },
          "execution_count": 69
        }
      ]
    },
    {
      "cell_type": "markdown",
      "metadata": {
        "id": "7UqSUZR79GVI",
        "colab_type": "text"
      },
      "source": [
        "Let's define a prediction function."
      ]
    },
    {
      "cell_type": "code",
      "metadata": {
        "id": "5Y0uoByZ3hTi",
        "colab_type": "code",
        "colab": {}
      },
      "source": [
        "def predict(text):\n",
        "  tokens = tokenize(text)\n",
        "  vect = vectorize(tokens, word2idx, vocab_set, msl)\n",
        "  x = torch.LongTensor(vect).unsqueeze(0)\n",
        "\n",
        "  out = torch.softmax(model(x), dim=1)\n",
        "  pred = torch.max(out[0], dim=0)[1].item()\n",
        "\n",
        "  print(pred, out)\n",
        "  print(\"Positive\") if pred == 0 else print(\"Negative\")"
      ],
      "execution_count": 0,
      "outputs": []
    },
    {
      "cell_type": "markdown",
      "metadata": {
        "id": "IGHyLP8n9INY",
        "colab_type": "text"
      },
      "source": [
        "And cast some predictions."
      ]
    },
    {
      "cell_type": "code",
      "metadata": {
        "id": "cnw70BrL4glU",
        "colab_type": "code",
        "outputId": "8db2759a-601e-45b2-a96f-075972a5cf26",
        "colab": {
          "base_uri": "https://localhost:8080/",
          "height": 51
        }
      },
      "source": [
        "predict(\"I hated that movie it was very bad\")"
      ],
      "execution_count": 0,
      "outputs": [
        {
          "output_type": "stream",
          "text": [
            "1 tensor([[0.0412, 0.9588]], grad_fn=<SoftmaxBackward>)\n",
            "Negative\n"
          ],
          "name": "stdout"
        }
      ]
    },
    {
      "cell_type": "code",
      "metadata": {
        "id": "cl18KlBW4i4G",
        "colab_type": "code",
        "outputId": "889ecc77-6dfe-4ddb-9491-19aeae7d08a8",
        "colab": {
          "base_uri": "https://localhost:8080/",
          "height": 51
        }
      },
      "source": [
        "predict(\"That was a really good movie!\")"
      ],
      "execution_count": 0,
      "outputs": [
        {
          "output_type": "stream",
          "text": [
            "0 tensor([[0.9049, 0.0951]], grad_fn=<SoftmaxBackward>)\n",
            "Positive\n"
          ],
          "name": "stdout"
        }
      ]
    },
    {
      "cell_type": "code",
      "metadata": {
        "id": "BO4ZjQfD4kyt",
        "colab_type": "code",
        "colab": {}
      },
      "source": [
        ""
      ],
      "execution_count": 0,
      "outputs": []
    }
  ]
}